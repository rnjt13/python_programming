{
 "cells": [
  {
   "cell_type": "code",
   "execution_count": 1,
   "id": "d1020ef7",
   "metadata": {},
   "outputs": [],
   "source": [
    "import pandas as pd\n",
    "import numpy as np"
   ]
  },
  {
   "cell_type": "markdown",
   "id": "afef6202",
   "metadata": {},
   "source": [
    "## Print types"
   ]
  },
  {
   "cell_type": "markdown",
   "id": "bd1cb049",
   "metadata": {},
   "source": [
    "### Types of print using sep and end inside print statement"
   ]
  },
  {
   "cell_type": "code",
   "execution_count": 11,
   "id": "5c03034a",
   "metadata": {},
   "outputs": [
    {
     "name": "stdout",
     "output_type": "stream",
     "text": [
      "India Australia England Germany\n"
     ]
    }
   ],
   "source": [
    "print('India','Australia','England','Germany',sep=' ', end='\\n')"
   ]
  },
  {
   "cell_type": "code",
   "execution_count": 12,
   "id": "4ba5fd46",
   "metadata": {},
   "outputs": [
    {
     "name": "stdout",
     "output_type": "stream",
     "text": [
      "India-Australia-England-Germany\tNetherlands\n"
     ]
    }
   ],
   "source": [
    "print('India','Australia','England','Germany',sep='-', end='\\t')\n",
    "print('Netherlands',sep=' ', end='\\n')"
   ]
  },
  {
   "cell_type": "markdown",
   "id": "390f4870",
   "metadata": {},
   "source": [
    "### Python supports 3 categories of data types:\n",
    " * Basic Types - (integer,float,complex,boolean and string)\n",
    " * Container Types - (List,Tuples, Sets and Dictionary)\n",
    " * User-defined Types - Class"
   ]
  },
  {
   "cell_type": "code",
   "execution_count": 60,
   "id": "7da973cd",
   "metadata": {},
   "outputs": [],
   "source": [
    "# Int limit 1e308, Float limit 1.7e308"
   ]
  },
  {
   "cell_type": "code",
   "execution_count": 62,
   "id": "f6d8725b",
   "metadata": {},
   "outputs": [
    {
     "name": "stdout",
     "output_type": "stream",
     "text": [
      "4 4.5 True (4+5j)\n"
     ]
    }
   ],
   "source": [
    "# Int,FLoat,Boolean,Complex\n",
    "print (4,4.5,True,4+5j)"
   ]
  },
  {
   "cell_type": "code",
   "execution_count": 63,
   "id": "26543871",
   "metadata": {},
   "outputs": [
    {
     "name": "stdout",
     "output_type": "stream",
     "text": [
      "Cricket Cricket Cricket\n"
     ]
    }
   ],
   "source": [
    "# String Can be inside '', \" \", \"\"\" \"\"\"\n",
    "print('Cricket',\"Cricket\", \"\"\"Cricket\"\"\")"
   ]
  },
  {
   "cell_type": "markdown",
   "id": "6d0aa61b",
   "metadata": {},
   "source": [
    "### List, Tuple, Set, Dictioanry"
   ]
  },
  {
   "cell_type": "code",
   "execution_count": 67,
   "id": "ee69157a",
   "metadata": {},
   "outputs": [
    {
     "name": "stdout",
     "output_type": "stream",
     "text": [
      "List=[1, 2, 3, 4], Tuple=(1, 2, 3, 4), Set={1, 2, 3, 4}, Dictioanry={'Name': 'Ranjeet', 'Type': 'Data Scientist'}\n"
     ]
    }
   ],
   "source": [
    "print('List={}, Tuple={}, Set={}, Dictioanry={}'.format(\n",
    "    [1,2,3,4],(1,2,3,4,),{1,2,3,4},{'Name':\"Ranjeet\",'Type':\"Data Scientist\"}))"
   ]
  },
  {
   "cell_type": "markdown",
   "id": "c51bfddf",
   "metadata": {},
   "source": [
    "### Variables - containers for future use"
   ]
  },
  {
   "cell_type": "code",
   "execution_count": 71,
   "id": "e8e62190",
   "metadata": {},
   "outputs": [
    {
     "name": "stdout",
     "output_type": "stream",
     "text": [
      "Ranjeet <class 'str'>\n"
     ]
    }
   ],
   "source": [
    "# Dynamic Typing, no need to declare the variable, also python automatically decides variable type\n",
    "name = \"Ranjeet\" \n",
    "print(name,type(name))"
   ]
  },
  {
   "cell_type": "code",
   "execution_count": 72,
   "id": "fd32bd8b",
   "metadata": {},
   "outputs": [
    {
     "name": "stdout",
     "output_type": "stream",
     "text": [
      "4 <class 'int'>\n"
     ]
    }
   ],
   "source": [
    "# Dynamic Binding, same variable can change data type\n",
    "name = 4 \n",
    "print(name,type(name))"
   ]
  },
  {
   "cell_type": "markdown",
   "id": "6319f70b",
   "metadata": {},
   "source": [
    "### Declare variables in 1 line"
   ]
  },
  {
   "cell_type": "code",
   "execution_count": 73,
   "id": "59bb6610",
   "metadata": {},
   "outputs": [
    {
     "name": "stdout",
     "output_type": "stream",
     "text": [
      "1 2 3\n"
     ]
    }
   ],
   "source": [
    "a=1;b=2;c=3\n",
    "print(a,b,c)"
   ]
  },
  {
   "cell_type": "code",
   "execution_count": 74,
   "id": "ba011e5d",
   "metadata": {},
   "outputs": [
    {
     "name": "stdout",
     "output_type": "stream",
     "text": [
      "1 2 3\n"
     ]
    }
   ],
   "source": [
    "a,b,c=1,2,3\n",
    "print(a,b,c)"
   ]
  },
  {
   "cell_type": "code",
   "execution_count": 75,
   "id": "a60a6aea",
   "metadata": {},
   "outputs": [
    {
     "name": "stdout",
     "output_type": "stream",
     "text": [
      "3 3 3\n"
     ]
    }
   ],
   "source": [
    "a=b=c=3\n",
    "print(a,b,c)"
   ]
  },
  {
   "cell_type": "markdown",
   "id": "dc363aeb",
   "metadata": {},
   "source": [
    "### Keywords and Identifiers"
   ]
  },
  {
   "cell_type": "code",
   "execution_count": 76,
   "id": "86fe96e8",
   "metadata": {},
   "outputs": [
    {
     "name": "stdout",
     "output_type": "stream",
     "text": [
      "['False', 'None', 'True', 'and', 'as', 'assert', 'async', 'await', 'break', 'class', 'continue', 'def', 'del', 'elif', 'else', 'except', 'finally', 'for', 'from', 'global', 'if', 'import', 'in', 'is', 'lambda', 'nonlocal', 'not', 'or', 'pass', 'raise', 'return', 'try', 'while', 'with', 'yield']\n"
     ]
    }
   ],
   "source": [
    "#python has 33 keywords\n",
    "import keyword\n",
    "print(keyword.kwlist)"
   ]
  },
  {
   "cell_type": "markdown",
   "id": "1715614a",
   "metadata": {},
   "source": [
    "### Rules for identifiers\n",
    "* can only start with a letter or _\n",
    "* followed by any letter, digit, _\n",
    "* keywords cannot be used as identifiers"
   ]
  },
  {
   "cell_type": "code",
   "execution_count": 80,
   "id": "3922085d",
   "metadata": {},
   "outputs": [],
   "source": [
    "_name='Ranjeet'"
   ]
  },
  {
   "cell_type": "markdown",
   "id": "1729640b",
   "metadata": {},
   "source": [
    "### Taking input from user.  Note - Input is always in string. convert to other data type if required"
   ]
  },
  {
   "cell_type": "code",
   "execution_count": 84,
   "id": "4d9943e2",
   "metadata": {},
   "outputs": [
    {
     "name": "stdout",
     "output_type": "stream",
     "text": [
      "1st number78\n",
      "78 79\n"
     ]
    }
   ],
   "source": [
    "y= input(prompt='1st number')\n",
    "print (y,int(y)+1)"
   ]
  },
  {
   "cell_type": "markdown",
   "id": "a6a8b50b",
   "metadata": {},
   "source": [
    "### type is used to find type of any object"
   ]
  },
  {
   "cell_type": "code",
   "execution_count": 88,
   "id": "66fe985a",
   "metadata": {},
   "outputs": [
    {
     "data": {
      "text/plain": [
       "(list, tuple, set, dict, complex, str, float)"
      ]
     },
     "execution_count": 88,
     "metadata": {},
     "output_type": "execute_result"
    }
   ],
   "source": [
    "type([3,4]), type((4,5)), type({4,5}),type({'a':4}), type(3+5j), type('abc'), type(4.5)"
   ]
  },
  {
   "cell_type": "code",
   "execution_count": 89,
   "id": "c3b2ff88",
   "metadata": {},
   "outputs": [],
   "source": [
    "# Assigning Variables in Python"
   ]
  },
  {
   "cell_type": "code",
   "execution_count": 90,
   "id": "3ebc8f9a",
   "metadata": {},
   "outputs": [
    {
     "name": "stdout",
     "output_type": "stream",
     "text": [
      "4 4.5 3j BCD\n"
     ]
    }
   ],
   "source": [
    "a,b,c,d= 4,4.5,3j,'BCD'\n",
    "print(a,b,c,d)"
   ]
  },
  {
   "cell_type": "code",
   "execution_count": 93,
   "id": "a2fecf17",
   "metadata": {},
   "outputs": [
    {
     "name": "stdout",
     "output_type": "stream",
     "text": [
      "None\n"
     ]
    }
   ],
   "source": [
    "# None is used to assign a variable some value that can be used later\n",
    "q= None\n",
    "print(q)"
   ]
  },
  {
   "cell_type": "markdown",
   "id": "f58d009f",
   "metadata": {},
   "source": [
    "### Operators in Python\n",
    "* Arithmetic\n",
    "* Comparison\n",
    "* Logical\n",
    "* Bitwise\n",
    "* Assignment\n",
    "* Identity\n",
    "* Membership"
   ]
  },
  {
   "cell_type": "code",
   "execution_count": 99,
   "id": "964875e9",
   "metadata": {},
   "outputs": [
    {
     "name": "stdout",
     "output_type": "stream",
     "text": [
      "32 1 3.5 3\n"
     ]
    }
   ],
   "source": [
    "print(2**5, 7%2, 7/2, 7//2) # power, mod, division, interger division"
   ]
  },
  {
   "cell_type": "code",
   "execution_count": null,
   "id": "d19283e9",
   "metadata": {},
   "outputs": [],
   "source": []
  },
  {
   "cell_type": "code",
   "execution_count": 102,
   "id": "88bf90fc",
   "metadata": {},
   "outputs": [
    {
     "name": "stdout",
     "output_type": "stream",
     "text": [
      "False True False\n"
     ]
    }
   ],
   "source": [
    "print(3>78, 3!=4, 2==4)"
   ]
  },
  {
   "cell_type": "code",
   "execution_count": 107,
   "id": "ab27f0d3",
   "metadata": {},
   "outputs": [
    {
     "name": "stdout",
     "output_type": "stream",
     "text": [
      "32 False\n"
     ]
    }
   ],
   "source": [
    "print(3 and 4 and 1 and 32, True and False) # logical and operation"
   ]
  },
  {
   "cell_type": "code",
   "execution_count": 108,
   "id": "495666a2",
   "metadata": {},
   "outputs": [
    {
     "name": "stdout",
     "output_type": "stream",
     "text": [
      "2\n"
     ]
    }
   ],
   "source": [
    "print( 2 & 3) # bitwise and operation"
   ]
  },
  {
   "cell_type": "code",
   "execution_count": 109,
   "id": "b266a67a",
   "metadata": {},
   "outputs": [
    {
     "data": {
      "text/plain": [
       "6"
      ]
     },
     "execution_count": 109,
     "metadata": {},
     "output_type": "execute_result"
    }
   ],
   "source": [
    "#Assignment\n",
    "a=3\n",
    "a+=3\n",
    "a"
   ]
  },
  {
   "cell_type": "code",
   "execution_count": 111,
   "id": "3aec7762",
   "metadata": {},
   "outputs": [],
   "source": [
    "# a++, ++a # these are not allowed"
   ]
  },
  {
   "cell_type": "code",
   "execution_count": 112,
   "id": "1417a987",
   "metadata": {},
   "outputs": [
    {
     "name": "stdout",
     "output_type": "stream",
     "text": [
      "True\n",
      "False\n"
     ]
    }
   ],
   "source": [
    "# Identity means if 2 variables are at same memory location\n",
    "a= 3;b=3; print(a is b)\n",
    "c=[1,2,3];d=[1,2,3]; print(c is d)"
   ]
  },
  {
   "cell_type": "code",
   "execution_count": 114,
   "id": "0cfe7aa4",
   "metadata": {},
   "outputs": [
    {
     "name": "stdout",
     "output_type": "stream",
     "text": [
      "True False\n"
     ]
    }
   ],
   "source": [
    "# Membership tells if one thing is inside another thing\n",
    "a= \"Delhi\"\n",
    "print(\"D\" in a, \"i\" not in a)"
   ]
  },
  {
   "cell_type": "code",
   "execution_count": 115,
   "id": "30db8b24",
   "metadata": {},
   "outputs": [
    {
     "name": "stdout",
     "output_type": "stream",
     "text": [
      "True\n"
     ]
    }
   ],
   "source": [
    "v=(1,2,3); print(3 in v)"
   ]
  },
  {
   "cell_type": "markdown",
   "id": "6a8c752b",
   "metadata": {},
   "source": [
    "### If else statement"
   ]
  },
  {
   "cell_type": "code",
   "execution_count": 2,
   "id": "5af8948d",
   "metadata": {},
   "outputs": [
    {
     "name": "stdout",
     "output_type": "stream",
     "text": [
      "Enter gamecricket\n",
      "Enter petdef\n",
      "pet is incorrect, enter pet again\n",
      "Enter pet againdog\n",
      "both are correct\n"
     ]
    }
   ],
   "source": [
    "# favourite game = cricket, animal = dog\n",
    "game, pet = input(prompt = \"Enter game\"), input(prompt = \"Enter pet\")\n",
    "\n",
    "if game=='cricket' and pet =='dog':\n",
    "    print('Correct choice')\n",
    "    \n",
    "elif game=='cricket' and pet !='dog':\n",
    "    print('pet is incorrect, enter pet again')\n",
    "    pet=input(prompt='Enter pet again')\n",
    "    \n",
    "    if(pet=='dog'):\n",
    "        print('both are correct')\n",
    "    else:\n",
    "        print('again incorrect, logging out!')\n",
    "        \n",
    "else:\n",
    "    print('both are incorrect')    "
   ]
  },
  {
   "cell_type": "markdown",
   "id": "6d3df1c8",
   "metadata": {},
   "source": [
    "### While Loop"
   ]
  },
  {
   "cell_type": "code",
   "execution_count": 3,
   "id": "dc3ffd4e",
   "metadata": {},
   "outputs": [
    {
     "name": "stdout",
     "output_type": "stream",
     "text": [
      "Input the number4\n",
      "4 * 1 = 4\n",
      "4 * 2 = 8\n",
      "4 * 3 = 12\n",
      "4 * 4 = 16\n",
      "4 * 5 = 20\n",
      "4 * 6 = 24\n",
      "4 * 7 = 28\n",
      "4 * 8 = 32\n",
      "4 * 9 = 36\n",
      "4 * 10 = 40\n"
     ]
    }
   ],
   "source": [
    "number = int(input(prompt='Input the number') )\n",
    "i=1\n",
    "while i<=10:\n",
    "    print('{} * {} = {}'.format(number,i,number*i))\n",
    "    i=i+1"
   ]
  },
  {
   "cell_type": "markdown",
   "id": "dede664f",
   "metadata": {},
   "source": [
    "### For Loop  (can iterate through a range OR a sequence)"
   ]
  },
  {
   "cell_type": "code",
   "execution_count": 15,
   "id": "ebfcd36d",
   "metadata": {},
   "outputs": [
    {
     "name": "stdout",
     "output_type": "stream",
     "text": [
      "list = [1, 3, 5, 7, 9], set={1, 10, 4, 7}\n"
     ]
    }
   ],
   "source": [
    "# these are examples of ranges\n",
    "\n",
    "print('list = {}, set={}'.format( list(range(1,11,2)) , set(range(1,12,3))) )"
   ]
  },
  {
   "cell_type": "code",
   "execution_count": 6,
   "id": "e76a804a",
   "metadata": {},
   "outputs": [
    {
     "name": "stdout",
     "output_type": "stream",
     "text": [
      "1\n",
      "3\n",
      "5\n",
      "7\n",
      "9\n"
     ]
    }
   ],
   "source": [
    "for i in range(1,11,2):\n",
    "    print(i)"
   ]
  },
  {
   "cell_type": "code",
   "execution_count": 17,
   "id": "b8ac3360",
   "metadata": {},
   "outputs": [
    {
     "name": "stdout",
     "output_type": "stream",
     "text": [
      "ABCD ['D', 'e', 'l', 'h', 'i']\n"
     ]
    }
   ],
   "source": [
    "# this are examples of sequences\n",
    "\n",
    "print(\"ABCD\", list(\"Delhi\"))"
   ]
  },
  {
   "cell_type": "code",
   "execution_count": 19,
   "id": "761a3081",
   "metadata": {},
   "outputs": [
    {
     "name": "stdout",
     "output_type": "stream",
     "text": [
      "D\n",
      "e\n",
      "l\n",
      "h\n",
      "i\n"
     ]
    }
   ],
   "source": [
    "for i in \"Delhi\":\n",
    "    print(i)"
   ]
  },
  {
   "cell_type": "code",
   "execution_count": 22,
   "id": "9b629e9a",
   "metadata": {},
   "outputs": [
    {
     "name": "stdout",
     "output_type": "stream",
     "text": [
      "* \n",
      "* * \n",
      "* * * \n",
      "* * * * \n",
      "* * * * * \n"
     ]
    }
   ],
   "source": [
    "for i in range(1,6):\n",
    "    for j in range(0,i):\n",
    "        print('*',end=' ')\n",
    "    print('')    "
   ]
  },
  {
   "cell_type": "markdown",
   "id": "a248afdc",
   "metadata": {},
   "source": [
    "### Break, Continue, Pass statements"
   ]
  },
  {
   "cell_type": "code",
   "execution_count": 25,
   "id": "030f6fba",
   "metadata": {},
   "outputs": [
    {
     "name": "stdout",
     "output_type": "stream",
     "text": [
      "1 2 "
     ]
    }
   ],
   "source": [
    "for i in range(1,6):\n",
    "    if i==3:\n",
    "        break\n",
    "    print(i,sep=' ',end=' ')"
   ]
  },
  {
   "cell_type": "markdown",
   "id": "43784f71",
   "metadata": {},
   "source": [
    "### Continue - ( skip this iteration, but continue the loop )"
   ]
  },
  {
   "cell_type": "code",
   "execution_count": 26,
   "id": "1e975356",
   "metadata": {},
   "outputs": [
    {
     "name": "stdout",
     "output_type": "stream",
     "text": [
      "1 2 4 5 "
     ]
    }
   ],
   "source": [
    "for i in range(1,6):\n",
    "    if i==3:\n",
    "        continue\n",
    "    print(i,sep=' ',end=' ')"
   ]
  },
  {
   "cell_type": "markdown",
   "id": "3cd406cd",
   "metadata": {},
   "source": [
    "### Pass - ( placeholder for a loop )"
   ]
  },
  {
   "cell_type": "code",
   "execution_count": 27,
   "id": "e5de1622",
   "metadata": {},
   "outputs": [],
   "source": [
    "for i in range(1,6):\n",
    "    pass"
   ]
  },
  {
   "cell_type": "markdown",
   "id": "3896be28",
   "metadata": {},
   "source": [
    "### Inbuilt functions in Python - type, pow, min/max, round etc."
   ]
  },
  {
   "cell_type": "code",
   "execution_count": 29,
   "id": "9346eda0",
   "metadata": {},
   "outputs": [
    {
     "data": {
      "text/plain": [
       "float"
      ]
     },
     "execution_count": 29,
     "metadata": {},
     "output_type": "execute_result"
    }
   ],
   "source": [
    "type(4.5)"
   ]
  },
  {
   "cell_type": "code",
   "execution_count": 30,
   "id": "08fb783a",
   "metadata": {},
   "outputs": [
    {
     "data": {
      "text/plain": [
       "3"
      ]
     },
     "execution_count": 30,
     "metadata": {},
     "output_type": "execute_result"
    }
   ],
   "source": [
    "int(3.4)"
   ]
  },
  {
   "cell_type": "code",
   "execution_count": 31,
   "id": "87afd525",
   "metadata": {},
   "outputs": [
    {
     "data": {
      "text/plain": [
       "98"
      ]
     },
     "execution_count": 31,
     "metadata": {},
     "output_type": "execute_result"
    }
   ],
   "source": [
    "abs(-98)"
   ]
  },
  {
   "cell_type": "code",
   "execution_count": 37,
   "id": "5e8c7dd0",
   "metadata": {},
   "outputs": [
    {
     "data": {
      "text/plain": [
       "32"
      ]
     },
     "execution_count": 37,
     "metadata": {},
     "output_type": "execute_result"
    }
   ],
   "source": [
    "pow(2,5)"
   ]
  },
  {
   "cell_type": "code",
   "execution_count": 39,
   "id": "afb1894d",
   "metadata": {},
   "outputs": [
    {
     "data": {
      "text/plain": [
       "(3, 'D')"
      ]
     },
     "execution_count": 39,
     "metadata": {},
     "output_type": "execute_result"
    }
   ],
   "source": [
    "max([1,2,3],default=100), min(\"Delhi\")"
   ]
  },
  {
   "cell_type": "code",
   "execution_count": 42,
   "id": "6bbe6115",
   "metadata": {},
   "outputs": [
    {
     "data": {
      "text/plain": [
       "3.1429"
      ]
     },
     "execution_count": 42,
     "metadata": {},
     "output_type": "execute_result"
    }
   ],
   "source": [
    "round(22/7,4) # rounds to 4 places"
   ]
  },
  {
   "cell_type": "code",
   "execution_count": 43,
   "id": "a9cda4e5",
   "metadata": {},
   "outputs": [
    {
     "data": {
      "text/plain": [
       "(3, 1)"
      ]
     },
     "execution_count": 43,
     "metadata": {},
     "output_type": "execute_result"
    }
   ],
   "source": [
    "divmod(22,7)  # Quotient, Remainder"
   ]
  },
  {
   "cell_type": "code",
   "execution_count": 45,
   "id": "5fbc610a",
   "metadata": {},
   "outputs": [
    {
     "data": {
      "text/plain": [
       "('0b101', '0o5', '0x5')"
      ]
     },
     "execution_count": 45,
     "metadata": {},
     "output_type": "execute_result"
    }
   ],
   "source": [
    "bin(5), oct(5), hex(5)  # Binary, Octadecimal, Hexadecimal formats"
   ]
  },
  {
   "cell_type": "code",
   "execution_count": 47,
   "id": "0a84df33",
   "metadata": {},
   "outputs": [
    {
     "data": {
      "text/plain": [
       "4381484344"
      ]
     },
     "execution_count": 47,
     "metadata": {},
     "output_type": "execute_result"
    }
   ],
   "source": [
    "id(4)    # Memory location of a variable"
   ]
  },
  {
   "cell_type": "code",
   "execution_count": 49,
   "id": "f1ba87ca",
   "metadata": {},
   "outputs": [
    {
     "data": {
      "text/plain": [
       "65"
      ]
     },
     "execution_count": 49,
     "metadata": {},
     "output_type": "execute_result"
    }
   ],
   "source": [
    "ord('A')  # ASCII value of any character"
   ]
  },
  {
   "cell_type": "code",
   "execution_count": 51,
   "id": "4dde4214",
   "metadata": {},
   "outputs": [
    {
     "data": {
      "text/plain": [
       "3"
      ]
     },
     "execution_count": 51,
     "metadata": {},
     "output_type": "execute_result"
    }
   ],
   "source": [
    "len([4,5,6]) # length of any iterable"
   ]
  },
  {
   "cell_type": "code",
   "execution_count": 59,
   "id": "aa294cce",
   "metadata": {},
   "outputs": [
    {
     "data": {
      "text/plain": [
       "6"
      ]
     },
     "execution_count": 59,
     "metadata": {},
     "output_type": "execute_result"
    }
   ],
   "source": [
    "sum((4,2))   # sum of an iterable"
   ]
  },
  {
   "cell_type": "code",
   "execution_count": 61,
   "id": "70ae6dcf",
   "metadata": {},
   "outputs": [
    {
     "name": "stdout",
     "output_type": "stream",
     "text": [
      "Help on built-in function sum in module builtins:\n",
      "\n",
      "sum(iterable, /, start=0)\n",
      "    Return the sum of a 'start' value (default: 0) plus an iterable of numbers\n",
      "    \n",
      "    When the iterable is empty, return the start value.\n",
      "    This function is intended specifically for use with numeric values and may\n",
      "    reject non-numeric types.\n",
      "\n"
     ]
    }
   ],
   "source": [
    "help('sum')  # definition of any function"
   ]
  },
  {
   "cell_type": "markdown",
   "id": "3c256674",
   "metadata": {},
   "source": [
    "### Modules or Library - ( A python file which has many functions written inside it )"
   ]
  },
  {
   "cell_type": "code",
   "execution_count": 63,
   "id": "b52a364b",
   "metadata": {},
   "outputs": [],
   "source": [
    "# help('modules') # gives list of modules included in your system "
   ]
  },
  {
   "cell_type": "markdown",
   "id": "38582a39",
   "metadata": {},
   "source": [
    "### Math"
   ]
  },
  {
   "cell_type": "code",
   "execution_count": 64,
   "id": "fed59bc2",
   "metadata": {},
   "outputs": [],
   "source": [
    "import math"
   ]
  },
  {
   "cell_type": "code",
   "execution_count": 65,
   "id": "029b6f4f",
   "metadata": {},
   "outputs": [
    {
     "data": {
      "text/plain": [
       "24"
      ]
     },
     "execution_count": 65,
     "metadata": {},
     "output_type": "execute_result"
    }
   ],
   "source": [
    "math.factorial(4)"
   ]
  },
  {
   "cell_type": "code",
   "execution_count": 68,
   "id": "19ce9fcc",
   "metadata": {},
   "outputs": [
    {
     "data": {
      "text/plain": [
       "(3.141592653589793, 2.718281828459045, 5)"
      ]
     },
     "execution_count": 68,
     "metadata": {},
     "output_type": "execute_result"
    }
   ],
   "source": [
    "math.pi, math.e, math.ceil(4.6)"
   ]
  },
  {
   "cell_type": "markdown",
   "id": "2c93222f",
   "metadata": {},
   "source": [
    "### Random"
   ]
  },
  {
   "cell_type": "code",
   "execution_count": 69,
   "id": "d0e57bf3",
   "metadata": {},
   "outputs": [],
   "source": [
    "import random"
   ]
  },
  {
   "cell_type": "code",
   "execution_count": 77,
   "id": "1b0f113e",
   "metadata": {},
   "outputs": [
    {
     "data": {
      "text/plain": [
       "(0.7477754376702272, 26, 4)"
      ]
     },
     "execution_count": 77,
     "metadata": {},
     "output_type": "execute_result"
    }
   ],
   "source": [
    "random.random() , random.randint(1,100), random.randrange(4,20,1)"
   ]
  },
  {
   "cell_type": "code",
   "execution_count": 78,
   "id": "b915d70e",
   "metadata": {},
   "outputs": [
    {
     "data": {
      "text/plain": [
       "[2, 4, 5, 3, 1]"
      ]
     },
     "execution_count": 78,
     "metadata": {},
     "output_type": "execute_result"
    }
   ],
   "source": [
    "a=[1,2,3,4,5]; random.shuffle(a) ; a"
   ]
  },
  {
   "cell_type": "markdown",
   "id": "132308d3",
   "metadata": {},
   "source": [
    "### Time"
   ]
  },
  {
   "cell_type": "code",
   "execution_count": 79,
   "id": "619a4d79",
   "metadata": {},
   "outputs": [],
   "source": [
    "import time"
   ]
  },
  {
   "cell_type": "code",
   "execution_count": 86,
   "id": "cb172227",
   "metadata": {},
   "outputs": [
    {
     "data": {
      "text/plain": [
       "(1710567443.690449, 'Sat Mar 16 11:07:23 2024')"
      ]
     },
     "execution_count": 86,
     "metadata": {},
     "output_type": "execute_result"
    }
   ],
   "source": [
    "time.time(), time.ctime() # time from midnight Jan 1 1970 till now, current time"
   ]
  },
  {
   "cell_type": "code",
   "execution_count": 88,
   "id": "083df7c0",
   "metadata": {},
   "outputs": [
    {
     "name": "stdout",
     "output_type": "stream",
     "text": [
      "Waiting for 4 seconds...\n",
      "Completed\n"
     ]
    }
   ],
   "source": [
    "print(\"Waiting for 4 seconds...\"); time.sleep(4) ; print(\"Completed\")"
   ]
  },
  {
   "cell_type": "markdown",
   "id": "2d854785",
   "metadata": {},
   "source": [
    "### os Operating System"
   ]
  },
  {
   "cell_type": "code",
   "execution_count": 89,
   "id": "9b894989",
   "metadata": {},
   "outputs": [],
   "source": [
    "import os"
   ]
  },
  {
   "cell_type": "code",
   "execution_count": 94,
   "id": "3372d03c",
   "metadata": {},
   "outputs": [
    {
     "data": {
      "text/plain": [
       "'/Users/rnjt/Documents/Python Pratice'"
      ]
     },
     "execution_count": 94,
     "metadata": {},
     "output_type": "execute_result"
    }
   ],
   "source": [
    "os.getcwd()  # Shows path of current directory"
   ]
  },
  {
   "cell_type": "code",
   "execution_count": 95,
   "id": "70aaf90c",
   "metadata": {},
   "outputs": [
    {
     "data": {
      "text/plain": [
       "['.ipynb_checkpoints',\n",
       " 'Python Complete Notes.ipynb',\n",
       " 'Python data types.ipynb']"
      ]
     },
     "execution_count": 95,
     "metadata": {},
     "output_type": "execute_result"
    }
   ],
   "source": [
    "os.listdir()  # Shows all files in current directory"
   ]
  },
  {
   "cell_type": "markdown",
   "id": "c5d38458",
   "metadata": {},
   "source": [
    "### Strings"
   ]
  },
  {
   "cell_type": "code",
   "execution_count": 99,
   "id": "3da15ed6",
   "metadata": {},
   "outputs": [],
   "source": [
    "# Create using '', \"\", '''''',\"\"\"\"\"\" (Single, Double, Triple Quotes)"
   ]
  },
  {
   "cell_type": "code",
   "execution_count": 109,
   "id": "9bdd45b1",
   "metadata": {},
   "outputs": [
    {
     "name": "stdout",
     "output_type": "stream",
     "text": [
      "Hello Hello2 Hello3 Hello4 It's raining outside 6\n"
     ]
    }
   ],
   "source": [
    "c1= 'Hello' ; c2=\"Hello2\"; c3 = '''Hello3''' ; c4 =\"\"\"Hello4\"\"\"\n",
    "c5=\"It's raining outside\"\n",
    "c6=str(6)\n",
    "print(c1,c2,c3,c4,c5,c6)"
   ]
  },
  {
   "cell_type": "markdown",
   "id": "be9059fa",
   "metadata": {},
   "source": [
    "### Indexing in Strings"
   ]
  },
  {
   "cell_type": "code",
   "execution_count": 113,
   "id": "c118cd3a",
   "metadata": {},
   "outputs": [
    {
     "name": "stdout",
     "output_type": "stream",
     "text": [
      "H d\n"
     ]
    }
   ],
   "source": [
    "c='Hello World'\n",
    "print(c[0], c[-1]) # First, Last"
   ]
  },
  {
   "cell_type": "markdown",
   "id": "59702cbb",
   "metadata": {},
   "source": [
    "### Slicing"
   ]
  },
  {
   "cell_type": "code",
   "execution_count": 114,
   "id": "ca21ef2f",
   "metadata": {},
   "outputs": [
    {
     "name": "stdout",
     "output_type": "stream",
     "text": [
      "el \n"
     ]
    }
   ],
   "source": [
    "print(c[1:6:2])"
   ]
  },
  {
   "cell_type": "code",
   "execution_count": 116,
   "id": "16aedec7",
   "metadata": {},
   "outputs": [
    {
     "name": "stdout",
     "output_type": "stream",
     "text": [
      "dlroW olleH\n"
     ]
    }
   ],
   "source": [
    "print(c[::-1]) # reverses the string"
   ]
  },
  {
   "cell_type": "code",
   "execution_count": 121,
   "id": "6a6d672b",
   "metadata": {},
   "outputs": [
    {
     "name": "stdout",
     "output_type": "stream",
     "text": [
      "lo Worl lo World\n"
     ]
    }
   ],
   "source": [
    "print(c[-8:-1:1],c[-8::1], )"
   ]
  },
  {
   "cell_type": "markdown",
   "id": "0199ecb5",
   "metadata": {},
   "source": [
    "### Editing and Deleting in Strings (Strings are Immutable data object)"
   ]
  },
  {
   "cell_type": "code",
   "execution_count": 123,
   "id": "646f3335",
   "metadata": {},
   "outputs": [
    {
     "ename": "TypeError",
     "evalue": "'str' object does not support item assignment",
     "output_type": "error",
     "traceback": [
      "\u001b[0;31m---------------------------------------------------------------------------\u001b[0m",
      "\u001b[0;31mTypeError\u001b[0m                                 Traceback (most recent call last)",
      "Cell \u001b[0;32mIn[123], line 1\u001b[0m\n\u001b[0;32m----> 1\u001b[0m c[\u001b[38;5;241m0\u001b[39m]\u001b[38;5;241m=\u001b[39m\u001b[38;5;124m'\u001b[39m\u001b[38;5;124mA\u001b[39m\u001b[38;5;124m'\u001b[39m\n",
      "\u001b[0;31mTypeError\u001b[0m: 'str' object does not support item assignment"
     ]
    }
   ],
   "source": [
    "c[0]='A'"
   ]
  },
  {
   "cell_type": "code",
   "execution_count": 124,
   "id": "6e70abd0",
   "metadata": {},
   "outputs": [
    {
     "ename": "TypeError",
     "evalue": "'str' object does not support item deletion",
     "output_type": "error",
     "traceback": [
      "\u001b[0;31m---------------------------------------------------------------------------\u001b[0m",
      "\u001b[0;31mTypeError\u001b[0m                                 Traceback (most recent call last)",
      "Cell \u001b[0;32mIn[124], line 1\u001b[0m\n\u001b[0;32m----> 1\u001b[0m \u001b[38;5;28;01mdel\u001b[39;00m c[:\u001b[38;5;241m-\u001b[39m\u001b[38;5;241m3\u001b[39m]\n",
      "\u001b[0;31mTypeError\u001b[0m: 'str' object does not support item deletion"
     ]
    }
   ],
   "source": [
    "del c[:-3]"
   ]
  },
  {
   "cell_type": "code",
   "execution_count": 127,
   "id": "f0c1dd18",
   "metadata": {},
   "outputs": [],
   "source": [
    "# Reassign and Complete deletion is allowed"
   ]
  },
  {
   "cell_type": "code",
   "execution_count": 130,
   "id": "d29b348e",
   "metadata": {},
   "outputs": [
    {
     "name": "stdout",
     "output_type": "stream",
     "text": [
      "Hello again\n"
     ]
    }
   ],
   "source": [
    "c= 'Hello again'; print(c) ; del c"
   ]
  },
  {
   "cell_type": "markdown",
   "id": "35a85f3d",
   "metadata": {},
   "source": [
    "Opeartions in Strings\n",
    "* Arithmetic\n",
    "* Relationship\n",
    "* Logical\n",
    "* Loops\n",
    "* Membership"
   ]
  },
  {
   "cell_type": "code",
   "execution_count": 132,
   "id": "7baa6507",
   "metadata": {},
   "outputs": [
    {
     "data": {
      "text/plain": [
       "'Hello- World'"
      ]
     },
     "execution_count": 132,
     "metadata": {},
     "output_type": "execute_result"
    }
   ],
   "source": [
    "\"Hello\" + '- ' + \"World\""
   ]
  },
  {
   "cell_type": "code",
   "execution_count": 133,
   "id": "0642f917",
   "metadata": {},
   "outputs": [
    {
     "name": "stdout",
     "output_type": "stream",
     "text": [
      "**********\n"
     ]
    }
   ],
   "source": [
    "print(\"*\"*10)"
   ]
  },
  {
   "cell_type": "code",
   "execution_count": 134,
   "id": "a1a8f9a9",
   "metadata": {},
   "outputs": [
    {
     "data": {
      "text/plain": [
       "True"
      ]
     },
     "execution_count": 134,
     "metadata": {},
     "output_type": "execute_result"
    }
   ],
   "source": [
    "\"Mumbai\" > \"Goa\"\n",
    "# Compares according to dictioany, lexiographically"
   ]
  },
  {
   "cell_type": "code",
   "execution_count": 136,
   "id": "81c4b17f",
   "metadata": {},
   "outputs": [
    {
     "data": {
      "text/plain": [
       "False"
      ]
     },
     "execution_count": 136,
     "metadata": {},
     "output_type": "execute_result"
    }
   ],
   "source": [
    "\"Delhi\" > \"Mumbai\""
   ]
  },
  {
   "cell_type": "code",
   "execution_count": 138,
   "id": "e9f368af",
   "metadata": {},
   "outputs": [
    {
     "data": {
      "text/plain": [
       "False"
      ]
     },
     "execution_count": 138,
     "metadata": {},
     "output_type": "execute_result"
    }
   ],
   "source": [
    "\"mum\" < \"Mum\" \n",
    "# Capital comes first"
   ]
  },
  {
   "cell_type": "markdown",
   "id": "09cf51d3",
   "metadata": {},
   "source": [
    "### Logical"
   ]
  },
  {
   "cell_type": "code",
   "execution_count": 139,
   "id": "323baf50",
   "metadata": {},
   "outputs": [],
   "source": [
    "# Empty, \"\" = False\n",
    "# Non Empty, \"abcd\" = True"
   ]
  },
  {
   "cell_type": "code",
   "execution_count": 142,
   "id": "5e8b7ac7",
   "metadata": {},
   "outputs": [
    {
     "data": {
      "text/plain": [
       "('', 'desc', 'bcd')"
      ]
     },
     "execution_count": 142,
     "metadata": {},
     "output_type": "execute_result"
    }
   ],
   "source": [
    "\"\" and \"abc\\\\\" , \"abc\" and \"desc\" , \"\" or \"bcd\""
   ]
  },
  {
   "cell_type": "markdown",
   "id": "4eac4e63",
   "metadata": {},
   "source": [
    "### Loops in strings"
   ]
  },
  {
   "cell_type": "code",
   "execution_count": 146,
   "id": "fe68b60e",
   "metadata": {},
   "outputs": [
    {
     "name": "stdout",
     "output_type": "stream",
     "text": [
      "H\n",
      "e\n",
      "l\n",
      "l\n",
      "o\n"
     ]
    }
   ],
   "source": [
    "c= \"Hello World\"\n",
    "for i in c[:5]:\n",
    "    print(i)"
   ]
  },
  {
   "cell_type": "markdown",
   "id": "c486dd53",
   "metadata": {},
   "source": [
    "### Substrings or Memberships"
   ]
  },
  {
   "cell_type": "code",
   "execution_count": 147,
   "id": "42af911e",
   "metadata": {},
   "outputs": [
    {
     "data": {
      "text/plain": [
       "True"
      ]
     },
     "execution_count": 147,
     "metadata": {},
     "output_type": "execute_result"
    }
   ],
   "source": [
    "c= \"Hello World\"\n",
    "\"Hel\" in c"
   ]
  },
  {
   "cell_type": "markdown",
   "id": "eadd5b72",
   "metadata": {},
   "source": [
    "### String Functions - ( len, min/max, sorted etc. )"
   ]
  },
  {
   "cell_type": "code",
   "execution_count": 149,
   "id": "e35a80ce",
   "metadata": {},
   "outputs": [
    {
     "data": {
      "text/plain": [
       "(5, 'D', 'l', ['D', 'e', 'h', 'i', 'l'])"
      ]
     },
     "execution_count": 149,
     "metadata": {},
     "output_type": "execute_result"
    }
   ],
   "source": [
    "c=\"Delhi\"\n",
    "len(c), min(c), max(c), sorted(c)"
   ]
  },
  {
   "cell_type": "markdown",
   "id": "a5c653d5",
   "metadata": {},
   "source": [
    "### Capitalize, Title, Upper, Lower, Swapcase"
   ]
  },
  {
   "cell_type": "code",
   "execution_count": 151,
   "id": "0c233641",
   "metadata": {},
   "outputs": [
    {
     "data": {
      "text/plain": [
       "('It is raining', 'It Is Raining', 'IT IS RAINING', 'iT IS RAINING')"
      ]
     },
     "execution_count": 151,
     "metadata": {},
     "output_type": "execute_result"
    }
   ],
   "source": [
    "\"It is raining\".capitalize(), \"It is raining\".title(), \"It is raining\".upper(), \"It is raining\".swapcase()"
   ]
  },
  {
   "cell_type": "markdown",
   "id": "4941feb0",
   "metadata": {},
   "source": [
    "### Count - ( counts # of times a substring occurs in a string )"
   ]
  },
  {
   "cell_type": "code",
   "execution_count": 152,
   "id": "a2c3e5da",
   "metadata": {},
   "outputs": [
    {
     "data": {
      "text/plain": [
       "2"
      ]
     },
     "execution_count": 152,
     "metadata": {},
     "output_type": "execute_result"
    }
   ],
   "source": [
    "\"It is raining\".count('in')"
   ]
  },
  {
   "cell_type": "markdown",
   "id": "07e148d3",
   "metadata": {},
   "source": [
    "### Find / Index - (finds the index of substring in a string)"
   ]
  },
  {
   "cell_type": "code",
   "execution_count": 155,
   "id": "35e582de",
   "metadata": {},
   "outputs": [
    {
     "data": {
      "text/plain": [
       "(8, -1, 8)"
      ]
     },
     "execution_count": 155,
     "metadata": {},
     "output_type": "execute_result"
    }
   ],
   "source": [
    "\"It is raining\".find('in') , \"It is raining\".find('x'), \"It is raining\".index('in')\n",
    "# index will throw error if substring is not found"
   ]
  },
  {
   "cell_type": "markdown",
   "id": "f6b56417",
   "metadata": {},
   "source": [
    "### endswith / startswith"
   ]
  },
  {
   "cell_type": "code",
   "execution_count": 158,
   "id": "3056345a",
   "metadata": {},
   "outputs": [
    {
     "data": {
      "text/plain": [
       "(True, True, False)"
      ]
     },
     "execution_count": 158,
     "metadata": {},
     "output_type": "execute_result"
    }
   ],
   "source": [
    "\"It is raining\"[-3:]=='ing', \"It is raining\".startswith('It'), \"It is raining\".endswith('it') "
   ]
  },
  {
   "cell_type": "markdown",
   "id": "41e751e4",
   "metadata": {},
   "source": [
    "### format - used to enter the entire string and then enter variables at the end"
   ]
  },
  {
   "cell_type": "code",
   "execution_count": 161,
   "id": "b457a510",
   "metadata": {},
   "outputs": [
    {
     "data": {
      "text/plain": [
       "'The sum is 9 and product is 14'"
      ]
     },
     "execution_count": 161,
     "metadata": {},
     "output_type": "execute_result"
    }
   ],
   "source": [
    "a=2;b=7\n",
    "\"The sum is {} and product is {}\".format(a+b, a*b)"
   ]
  },
  {
   "cell_type": "code",
   "execution_count": 164,
   "id": "d0487836",
   "metadata": {},
   "outputs": [
    {
     "name": "stdout",
     "output_type": "stream",
     "text": [
      "The sum is 14 and product is 9\n",
      "The sum is 9 and product is 14\n"
     ]
    }
   ],
   "source": [
    "print(\"The sum is {1} and product is {0}\".format(a+b, a*b)) # this reverses the order\n",
    "print(\"The sum is {sum} and product is {prod}\".format(sum=a+b, prod=a*b)) # this is correct the order"
   ]
  },
  {
   "cell_type": "markdown",
   "id": "f20b981a",
   "metadata": {},
   "source": [
    "### isalnum / isalpha / isnumeric / isdecimal / isdigit / isidentifier"
   ]
  },
  {
   "cell_type": "code",
   "execution_count": 172,
   "id": "a846064e",
   "metadata": {},
   "outputs": [
    {
     "data": {
      "text/plain": [
       "(True, True, True, False, True, True, False)"
      ]
     },
     "execution_count": 172,
     "metadata": {},
     "output_type": "execute_result"
    }
   ],
   "source": [
    "\"Happy100\".isalnum(), \"Happy\".isalpha(), \"100\".isnumeric(), \"Happy100\".isdecimal(),\"100\".isdigit(),\\\n",
    "\"Happy_100\".isidentifier(), \"Happy 100\".isidentifier() # spaces are not allowed as identifer"
   ]
  },
  {
   "cell_type": "markdown",
   "id": "88f08ce9",
   "metadata": {},
   "source": [
    "### split - used to split the text basis space or any other identifier"
   ]
  },
  {
   "cell_type": "code",
   "execution_count": 176,
   "id": "f0c2c23b",
   "metadata": {},
   "outputs": [
    {
     "data": {
      "text/plain": [
       "(['The', 'sum', 'is', '14'], ['The sum ', ' 14'])"
      ]
     },
     "execution_count": 176,
     "metadata": {},
     "output_type": "execute_result"
    }
   ],
   "source": [
    "\"The sum is 14\".split(), \"The sum is 14\".split('is')"
   ]
  },
  {
   "cell_type": "code",
   "execution_count": 177,
   "id": "5c9e9521",
   "metadata": {},
   "outputs": [
    {
     "data": {
      "text/plain": [
       "['is', '14']"
      ]
     },
     "execution_count": 177,
     "metadata": {},
     "output_type": "execute_result"
    }
   ],
   "source": [
    "\"The sum is 14\".split()[-2:]"
   ]
  },
  {
   "cell_type": "markdown",
   "id": "291309b1",
   "metadata": {},
   "source": [
    "### Join - reverse of split, joins items basis space or any other identifier"
   ]
  },
  {
   "cell_type": "code",
   "execution_count": 181,
   "id": "7769ffcc",
   "metadata": {},
   "outputs": [
    {
     "data": {
      "text/plain": [
       "('This_is_a_join', 'This is a join')"
      ]
     },
     "execution_count": 181,
     "metadata": {},
     "output_type": "execute_result"
    }
   ],
   "source": [
    "\"_\".join(['This','is','a','join']), \" \".join(['This','is','a','join'])"
   ]
  },
  {
   "cell_type": "markdown",
   "id": "d768d492",
   "metadata": {},
   "source": [
    "### Replace - replace a text with another text"
   ]
  },
  {
   "cell_type": "code",
   "execution_count": 182,
   "id": "f24e6695",
   "metadata": {},
   "outputs": [
    {
     "data": {
      "text/plain": [
       "'This is a replace'"
      ]
     },
     "execution_count": 182,
     "metadata": {},
     "output_type": "execute_result"
    }
   ],
   "source": [
    "'This is a join'.replace('join','replace')"
   ]
  },
  {
   "cell_type": "markdown",
   "id": "d874c138",
   "metadata": {},
   "source": [
    "### Strip - remove trailing and ending spaces in a string"
   ]
  },
  {
   "cell_type": "code",
   "execution_count": 183,
   "id": "74e6884f",
   "metadata": {},
   "outputs": [
    {
     "data": {
      "text/plain": [
       "('This is a strip', '_This is also a strip')"
      ]
     },
     "execution_count": 183,
     "metadata": {},
     "output_type": "execute_result"
    }
   ],
   "source": [
    "'This is a strip   '.strip(), ' _This is also a strip   '.strip(),"
   ]
  },
  {
   "cell_type": "markdown",
   "id": "6d8a4e0d",
   "metadata": {},
   "source": [
    "### List"
   ]
  },
  {
   "cell_type": "code",
   "execution_count": 199,
   "id": "e8f777f6",
   "metadata": {},
   "outputs": [],
   "source": [
    "# List is a data object which can store multiple items at once\n",
    "# List is heterogeneous, Array is homogeneous\n",
    "# List items are not continuously stored, hence slower. Array items are stored continuously, hence faster.\n",
    "l = [1,2,3,5]"
   ]
  },
  {
   "cell_type": "markdown",
   "id": "fac6fbdf",
   "metadata": {},
   "source": [
    "### Create, Access, Edit, Add, Delete in a List "
   ]
  },
  {
   "cell_type": "code",
   "execution_count": 208,
   "id": "02c40fda",
   "metadata": {},
   "outputs": [],
   "source": [
    "# Every manipulation that we learnt in strings is applicable in list"
   ]
  },
  {
   "cell_type": "code",
   "execution_count": 204,
   "id": "28ab1f2a",
   "metadata": {},
   "outputs": [
    {
     "name": "stdout",
     "output_type": "stream",
     "text": [
      "[1, 2, 3, [1, 2]] [1, 2, 'abcd', (4+7j)] ['D', 'e', 'l', 'h', 'i']\n"
     ]
    }
   ],
   "source": [
    "L2= [1,2,3,[1,2]]; L3 = [1,2,'abcd',4+7j];  L4 = list(\"Delhi\")\n",
    "print(L2,L3,L4)"
   ]
  },
  {
   "cell_type": "code",
   "execution_count": 205,
   "id": "d7df5716",
   "metadata": {},
   "outputs": [
    {
     "data": {
      "text/plain": [
       "['i', 'h', 'l', 'e', 'D']"
      ]
     },
     "execution_count": 205,
     "metadata": {},
     "output_type": "execute_result"
    }
   ],
   "source": [
    "L4[::-1]"
   ]
  },
  {
   "cell_type": "code",
   "execution_count": 211,
   "id": "670926a6",
   "metadata": {},
   "outputs": [],
   "source": [
    "# Working with 2D and multidimensional Lists"
   ]
  },
  {
   "cell_type": "code",
   "execution_count": 212,
   "id": "76fcb951",
   "metadata": {},
   "outputs": [
    {
     "data": {
      "text/plain": [
       "2"
      ]
     },
     "execution_count": 212,
     "metadata": {},
     "output_type": "execute_result"
    }
   ],
   "source": [
    "L2[-1][1]"
   ]
  },
  {
   "cell_type": "code",
   "execution_count": 213,
   "id": "539497eb",
   "metadata": {},
   "outputs": [],
   "source": [
    "# Lists are Mutable"
   ]
  },
  {
   "cell_type": "code",
   "execution_count": 214,
   "id": "69c49dc6",
   "metadata": {},
   "outputs": [
    {
     "data": {
      "text/plain": [
       "[100, 2, 3, [1, 2]]"
      ]
     },
     "execution_count": 214,
     "metadata": {},
     "output_type": "execute_result"
    }
   ],
   "source": [
    "L2[0] = 100\n",
    "L2"
   ]
  },
  {
   "cell_type": "markdown",
   "id": "bf0dc516",
   "metadata": {},
   "source": [
    "### Adding an element\n",
    "- Append always adds 1 item, \n",
    "- Extend always tries to add multiple item, \n",
    "- Insert adds one item at a fixed location"
   ]
  },
  {
   "cell_type": "code",
   "execution_count": 218,
   "id": "d70ee01b",
   "metadata": {},
   "outputs": [
    {
     "data": {
      "text/plain": [
       "[100, 2, 3, [1, 2], ['a', 'i', 'r']]"
      ]
     },
     "execution_count": 218,
     "metadata": {},
     "output_type": "execute_result"
    }
   ],
   "source": [
    "L2.append(['a','i','r']); L2"
   ]
  },
  {
   "cell_type": "code",
   "execution_count": 219,
   "id": "7210d1f8",
   "metadata": {},
   "outputs": [
    {
     "data": {
      "text/plain": [
       "[100, 2, 3, [1, 2], ['a', 'i', 'r'], 's', 'k', 'y']"
      ]
     },
     "execution_count": 219,
     "metadata": {},
     "output_type": "execute_result"
    }
   ],
   "source": [
    "L2.extend(['s','k','y']); L2"
   ]
  },
  {
   "cell_type": "code",
   "execution_count": 220,
   "id": "ac46bcdd",
   "metadata": {},
   "outputs": [
    {
     "data": {
      "text/plain": [
       "[100, 'high', 2, 3, [1, 2], ['a', 'i', 'r'], 's', 'k', 'y']"
      ]
     },
     "execution_count": 220,
     "metadata": {},
     "output_type": "execute_result"
    }
   ],
   "source": [
    "L2.insert(1,'high'); L2"
   ]
  },
  {
   "cell_type": "markdown",
   "id": "08305c8b",
   "metadata": {},
   "source": [
    "### Deleting an element\n",
    "- del removes the list completely, or the index mentioned inside\n",
    "- remove removes the element without index. Just mention the element and remove\n",
    "- pop removes the last element y default. Or the index mentioned \n",
    "- clear empties the list."
   ]
  },
  {
   "cell_type": "code",
   "execution_count": 222,
   "id": "dc626d3c",
   "metadata": {},
   "outputs": [
    {
     "data": {
      "text/plain": [
       "[3, 4, 5, 6, 7]"
      ]
     },
     "execution_count": 222,
     "metadata": {},
     "output_type": "execute_result"
    }
   ],
   "source": [
    "L_temp = [1,2,3,4,5,6,7]; del L_temp[0:2]\n",
    "L_temp"
   ]
  },
  {
   "cell_type": "code",
   "execution_count": 223,
   "id": "38a25625",
   "metadata": {},
   "outputs": [
    {
     "data": {
      "text/plain": [
       "[3, 4, 5, 6]"
      ]
     },
     "execution_count": 223,
     "metadata": {},
     "output_type": "execute_result"
    }
   ],
   "source": [
    "L_temp.remove(7); L_temp"
   ]
  },
  {
   "cell_type": "code",
   "execution_count": 225,
   "id": "f624e936",
   "metadata": {},
   "outputs": [
    {
     "data": {
      "text/plain": [
       "[3, 5, 6]"
      ]
     },
     "execution_count": 225,
     "metadata": {},
     "output_type": "execute_result"
    }
   ],
   "source": [
    "L_temp.pop(1); L_temp"
   ]
  },
  {
   "cell_type": "code",
   "execution_count": 232,
   "id": "d52d3f05",
   "metadata": {},
   "outputs": [
    {
     "data": {
      "text/plain": [
       "[]"
      ]
     },
     "execution_count": 232,
     "metadata": {},
     "output_type": "execute_result"
    }
   ],
   "source": [
    "L_temp.clear(); L_temp"
   ]
  },
  {
   "cell_type": "markdown",
   "id": "f55e7419",
   "metadata": {},
   "source": [
    "### Operations in List"
   ]
  },
  {
   "cell_type": "code",
   "execution_count": 240,
   "id": "c53bbb75",
   "metadata": {},
   "outputs": [
    {
     "data": {
      "text/plain": [
       "([1, 2, 3, 4, 5, 6, 7, 8], [1, 2, 3, 4, 1, 2, 3, 4, 1, 2, 3, 4], True)"
      ]
     },
     "execution_count": 240,
     "metadata": {},
     "output_type": "execute_result"
    }
   ],
   "source": [
    "#concatenation , multiplication, iteration\n",
    "L5 = [1,2,3,4]; L6 = [5,6,7,8];\n",
    "L5+L6, L5*3 , 4 in L5"
   ]
  },
  {
   "cell_type": "code",
   "execution_count": 239,
   "id": "3918d7a5",
   "metadata": {},
   "outputs": [
    {
     "name": "stdout",
     "output_type": "stream",
     "text": [
      "5\n",
      "6\n",
      "7\n",
      "8\n"
     ]
    }
   ],
   "source": [
    "for i in L6:\n",
    "    print(i)"
   ]
  },
  {
   "cell_type": "markdown",
   "id": "283ee2fe",
   "metadata": {},
   "source": [
    "### Functions in List"
   ]
  },
  {
   "cell_type": "code",
   "execution_count": 247,
   "id": "cc1c1e5b",
   "metadata": {},
   "outputs": [],
   "source": [
    "# sorted does not change the original list\n",
    "# sort changes the original list"
   ]
  },
  {
   "cell_type": "code",
   "execution_count": 245,
   "id": "e4227329",
   "metadata": {},
   "outputs": [
    {
     "data": {
      "text/plain": [
       "(1, 4, [1, 2, 3, 4], None)"
      ]
     },
     "execution_count": 245,
     "metadata": {},
     "output_type": "execute_result"
    }
   ],
   "source": [
    "min(L5), max(L5), sorted(L5), L5.sort(reverse=True)"
   ]
  },
  {
   "cell_type": "code",
   "execution_count": 246,
   "id": "3670efb1",
   "metadata": {},
   "outputs": [
    {
     "data": {
      "text/plain": [
       "[4, 3, 2, 1]"
      ]
     },
     "execution_count": 246,
     "metadata": {},
     "output_type": "execute_result"
    }
   ],
   "source": [
    "L5"
   ]
  },
  {
   "cell_type": "code",
   "execution_count": 249,
   "id": "507dc807",
   "metadata": {},
   "outputs": [
    {
     "data": {
      "text/plain": [
       "(4, 2, 2, 3)"
      ]
     },
     "execution_count": 249,
     "metadata": {},
     "output_type": "execute_result"
    }
   ],
   "source": [
    "L5[0], L5[2], L5.index(2), L5.index(1) "
   ]
  },
  {
   "cell_type": "code",
   "execution_count": null,
   "id": "b5cedd9d",
   "metadata": {},
   "outputs": [],
   "source": []
  },
  {
   "cell_type": "code",
   "execution_count": null,
   "id": "de89c9e7",
   "metadata": {},
   "outputs": [],
   "source": []
  },
  {
   "cell_type": "code",
   "execution_count": null,
   "id": "ed86139c",
   "metadata": {},
   "outputs": [],
   "source": []
  },
  {
   "cell_type": "code",
   "execution_count": null,
   "id": "12868bc2",
   "metadata": {},
   "outputs": [],
   "source": []
  },
  {
   "cell_type": "code",
   "execution_count": null,
   "id": "2411fed6",
   "metadata": {},
   "outputs": [],
   "source": []
  },
  {
   "cell_type": "code",
   "execution_count": null,
   "id": "d3ec30be",
   "metadata": {},
   "outputs": [],
   "source": []
  },
  {
   "cell_type": "code",
   "execution_count": null,
   "id": "6c9442aa",
   "metadata": {},
   "outputs": [],
   "source": []
  },
  {
   "cell_type": "code",
   "execution_count": null,
   "id": "91b3da3d",
   "metadata": {},
   "outputs": [],
   "source": []
  },
  {
   "cell_type": "code",
   "execution_count": null,
   "id": "b68a9f0e",
   "metadata": {},
   "outputs": [],
   "source": []
  },
  {
   "cell_type": "code",
   "execution_count": null,
   "id": "1d54f462",
   "metadata": {},
   "outputs": [],
   "source": []
  },
  {
   "cell_type": "code",
   "execution_count": null,
   "id": "80b12f3a",
   "metadata": {},
   "outputs": [],
   "source": []
  },
  {
   "cell_type": "code",
   "execution_count": null,
   "id": "f6b0a29b",
   "metadata": {},
   "outputs": [],
   "source": []
  },
  {
   "cell_type": "code",
   "execution_count": null,
   "id": "394b360f",
   "metadata": {},
   "outputs": [],
   "source": []
  },
  {
   "cell_type": "code",
   "execution_count": null,
   "id": "36c2713b",
   "metadata": {},
   "outputs": [],
   "source": []
  },
  {
   "cell_type": "code",
   "execution_count": null,
   "id": "64d1d653",
   "metadata": {},
   "outputs": [],
   "source": []
  },
  {
   "cell_type": "code",
   "execution_count": null,
   "id": "79e513eb",
   "metadata": {},
   "outputs": [],
   "source": []
  },
  {
   "cell_type": "code",
   "execution_count": null,
   "id": "a22399bb",
   "metadata": {},
   "outputs": [],
   "source": []
  },
  {
   "cell_type": "code",
   "execution_count": null,
   "id": "d5c91450",
   "metadata": {},
   "outputs": [],
   "source": []
  },
  {
   "cell_type": "code",
   "execution_count": null,
   "id": "74638344",
   "metadata": {},
   "outputs": [],
   "source": []
  },
  {
   "cell_type": "code",
   "execution_count": null,
   "id": "490691db",
   "metadata": {},
   "outputs": [],
   "source": []
  },
  {
   "cell_type": "code",
   "execution_count": null,
   "id": "189a98ff",
   "metadata": {},
   "outputs": [],
   "source": []
  },
  {
   "cell_type": "code",
   "execution_count": null,
   "id": "7c1e1799",
   "metadata": {},
   "outputs": [],
   "source": []
  },
  {
   "cell_type": "code",
   "execution_count": null,
   "id": "b67fc8d0",
   "metadata": {},
   "outputs": [],
   "source": []
  },
  {
   "cell_type": "code",
   "execution_count": null,
   "id": "c2b6a228",
   "metadata": {},
   "outputs": [],
   "source": []
  },
  {
   "cell_type": "code",
   "execution_count": null,
   "id": "8f1e567f",
   "metadata": {},
   "outputs": [],
   "source": []
  },
  {
   "cell_type": "code",
   "execution_count": 15,
   "id": "3a213647",
   "metadata": {},
   "outputs": [],
   "source": [
    "df = pd.read_csv('/Users/rnjt/Downloads/Coimbra_breast_cancer_dataset.csv')"
   ]
  },
  {
   "cell_type": "code",
   "execution_count": 16,
   "id": "d5c22e2c",
   "metadata": {},
   "outputs": [
    {
     "name": "stdout",
     "output_type": "stream",
     "text": [
      "(116, 10)\n"
     ]
    },
    {
     "data": {
      "text/html": [
       "<div>\n",
       "<style scoped>\n",
       "    .dataframe tbody tr th:only-of-type {\n",
       "        vertical-align: middle;\n",
       "    }\n",
       "\n",
       "    .dataframe tbody tr th {\n",
       "        vertical-align: top;\n",
       "    }\n",
       "\n",
       "    .dataframe thead th {\n",
       "        text-align: right;\n",
       "    }\n",
       "</style>\n",
       "<table border=\"1\" class=\"dataframe\">\n",
       "  <thead>\n",
       "    <tr style=\"text-align: right;\">\n",
       "      <th></th>\n",
       "      <th>Age</th>\n",
       "      <th>BMI</th>\n",
       "      <th>Glucose</th>\n",
       "      <th>Insulin</th>\n",
       "      <th>HOMA</th>\n",
       "      <th>Leptin</th>\n",
       "      <th>Adiponectin</th>\n",
       "      <th>Resistin</th>\n",
       "      <th>MCP.1</th>\n",
       "      <th>Classification</th>\n",
       "    </tr>\n",
       "  </thead>\n",
       "  <tbody>\n",
       "    <tr>\n",
       "      <th>0</th>\n",
       "      <td>48</td>\n",
       "      <td>23.500000</td>\n",
       "      <td>70</td>\n",
       "      <td>2.707</td>\n",
       "      <td>0.467409</td>\n",
       "      <td>8.8071</td>\n",
       "      <td>9.702400</td>\n",
       "      <td>7.99585</td>\n",
       "      <td>417.114</td>\n",
       "      <td>1</td>\n",
       "    </tr>\n",
       "    <tr>\n",
       "      <th>1</th>\n",
       "      <td>83</td>\n",
       "      <td>20.690495</td>\n",
       "      <td>92</td>\n",
       "      <td>3.115</td>\n",
       "      <td>0.706897</td>\n",
       "      <td>8.8438</td>\n",
       "      <td>5.429285</td>\n",
       "      <td>4.06405</td>\n",
       "      <td>468.786</td>\n",
       "      <td>1</td>\n",
       "    </tr>\n",
       "  </tbody>\n",
       "</table>\n",
       "</div>"
      ],
      "text/plain": [
       "   Age        BMI  Glucose  Insulin      HOMA  Leptin  Adiponectin  Resistin  \\\n",
       "0   48  23.500000       70    2.707  0.467409  8.8071     9.702400   7.99585   \n",
       "1   83  20.690495       92    3.115  0.706897  8.8438     5.429285   4.06405   \n",
       "\n",
       "     MCP.1  Classification  \n",
       "0  417.114               1  \n",
       "1  468.786               1  "
      ]
     },
     "execution_count": 16,
     "metadata": {},
     "output_type": "execute_result"
    }
   ],
   "source": [
    "print(df.shape)\n",
    "df.head(2)"
   ]
  },
  {
   "cell_type": "code",
   "execution_count": 19,
   "id": "85fbbe92",
   "metadata": {},
   "outputs": [],
   "source": [
    "import math, random # random generates random floating number b/w (0 and 1)"
   ]
  },
  {
   "cell_type": "code",
   "execution_count": 40,
   "id": "7c0aa87e",
   "metadata": {},
   "outputs": [
    {
     "data": {
      "text/html": [
       "<div>\n",
       "<style scoped>\n",
       "    .dataframe tbody tr th:only-of-type {\n",
       "        vertical-align: middle;\n",
       "    }\n",
       "\n",
       "    .dataframe tbody tr th {\n",
       "        vertical-align: top;\n",
       "    }\n",
       "\n",
       "    .dataframe thead th {\n",
       "        text-align: right;\n",
       "    }\n",
       "</style>\n",
       "<table border=\"1\" class=\"dataframe\">\n",
       "  <thead>\n",
       "    <tr style=\"text-align: right;\">\n",
       "      <th></th>\n",
       "      <th>Age</th>\n",
       "      <th>BMI</th>\n",
       "      <th>Glucose</th>\n",
       "      <th>Insulin</th>\n",
       "      <th>HOMA</th>\n",
       "      <th>Leptin</th>\n",
       "      <th>Adiponectin</th>\n",
       "      <th>Resistin</th>\n",
       "      <th>MCP.1</th>\n",
       "      <th>Classification</th>\n",
       "      <th>Resistin_2</th>\n",
       "      <th>Resistin_3</th>\n",
       "      <th>max</th>\n",
       "      <th>max_column</th>\n",
       "    </tr>\n",
       "  </thead>\n",
       "  <tbody>\n",
       "    <tr>\n",
       "      <th>0</th>\n",
       "      <td>48</td>\n",
       "      <td>23.500000</td>\n",
       "      <td>70</td>\n",
       "      <td>2.707</td>\n",
       "      <td>0.467409</td>\n",
       "      <td>8.8071</td>\n",
       "      <td>9.702400</td>\n",
       "      <td>7.99585</td>\n",
       "      <td>417.114</td>\n",
       "      <td>1</td>\n",
       "      <td>10.275175</td>\n",
       "      <td>2.094611</td>\n",
       "      <td>7.99585</td>\n",
       "      <td>Resistin</td>\n",
       "    </tr>\n",
       "    <tr>\n",
       "      <th>1</th>\n",
       "      <td>83</td>\n",
       "      <td>20.690495</td>\n",
       "      <td>92</td>\n",
       "      <td>3.115</td>\n",
       "      <td>0.706897</td>\n",
       "      <td>8.8438</td>\n",
       "      <td>5.429285</td>\n",
       "      <td>4.06405</td>\n",
       "      <td>468.786</td>\n",
       "      <td>1</td>\n",
       "      <td>5.222562</td>\n",
       "      <td>1.064628</td>\n",
       "      <td>4.06405</td>\n",
       "      <td>Resistin</td>\n",
       "    </tr>\n",
       "  </tbody>\n",
       "</table>\n",
       "</div>"
      ],
      "text/plain": [
       "   Age        BMI  Glucose  Insulin      HOMA  Leptin  Adiponectin  Resistin  \\\n",
       "0   48  23.500000       70    2.707  0.467409  8.8071     9.702400   7.99585   \n",
       "1   83  20.690495       92    3.115  0.706897  8.8438     5.429285   4.06405   \n",
       "\n",
       "     MCP.1  Classification  Resistin_2  Resistin_3      max max_column  \n",
       "0  417.114               1   10.275175    2.094611  7.99585   Resistin  \n",
       "1  468.786               1    5.222562    1.064628  4.06405   Resistin  "
      ]
     },
     "execution_count": 40,
     "metadata": {},
     "output_type": "execute_result"
    }
   ],
   "source": [
    "df['Resistin_2'],df['Resistin_3'] = df['Resistin']*(1+random.random()), df['Resistin']*random.random()\n",
    "df.head(2)"
   ]
  },
  {
   "cell_type": "markdown",
   "id": "c50db006",
   "metadata": {},
   "source": [
    "## Max of dataframe column wise and row wise"
   ]
  },
  {
   "cell_type": "markdown",
   "id": "05294ba0",
   "metadata": {},
   "source": [
    "### Max in each column (axis=0)"
   ]
  },
  {
   "cell_type": "code",
   "execution_count": 41,
   "id": "615daa59",
   "metadata": {},
   "outputs": [
    {
     "data": {
      "text/plain": [
       "Resistin       82.100000\n",
       "Resistin_2    105.503711\n",
       "dtype: float64"
      ]
     },
     "execution_count": 41,
     "metadata": {},
     "output_type": "execute_result"
    }
   ],
   "source": [
    "df[['Resistin','Resistin_2']].max()\n",
    "# 'Resistin_2'"
   ]
  },
  {
   "cell_type": "markdown",
   "id": "bc8e7379",
   "metadata": {},
   "source": [
    "### Which row index has the max value in each column"
   ]
  },
  {
   "cell_type": "code",
   "execution_count": 59,
   "id": "ad0c5183",
   "metadata": {},
   "outputs": [
    {
     "data": {
      "text/plain": [
       "Resistin       37\n",
       "Resistin_2     37\n",
       "Leptin        115\n",
       "dtype: int64"
      ]
     },
     "execution_count": 59,
     "metadata": {},
     "output_type": "execute_result"
    }
   ],
   "source": [
    "df[['Resistin','Resistin_2','Leptin']].idxmax()\n",
    "# 'Resistin_2'"
   ]
  },
  {
   "cell_type": "code",
   "execution_count": 58,
   "id": "8898b5de",
   "metadata": {},
   "outputs": [
    {
     "data": {
      "text/html": [
       "<div>\n",
       "<style scoped>\n",
       "    .dataframe tbody tr th:only-of-type {\n",
       "        vertical-align: middle;\n",
       "    }\n",
       "\n",
       "    .dataframe tbody tr th {\n",
       "        vertical-align: top;\n",
       "    }\n",
       "\n",
       "    .dataframe thead th {\n",
       "        text-align: right;\n",
       "    }\n",
       "</style>\n",
       "<table border=\"1\" class=\"dataframe\">\n",
       "  <thead>\n",
       "    <tr style=\"text-align: right;\">\n",
       "      <th></th>\n",
       "      <th>Age</th>\n",
       "      <th>BMI</th>\n",
       "      <th>Glucose</th>\n",
       "      <th>Insulin</th>\n",
       "      <th>HOMA</th>\n",
       "      <th>Leptin</th>\n",
       "      <th>Adiponectin</th>\n",
       "      <th>Resistin</th>\n",
       "      <th>MCP.1</th>\n",
       "      <th>Classification</th>\n",
       "      <th>Resistin_2</th>\n",
       "      <th>Resistin_3</th>\n",
       "      <th>max</th>\n",
       "      <th>max_column</th>\n",
       "      <th>max_2</th>\n",
       "    </tr>\n",
       "  </thead>\n",
       "  <tbody>\n",
       "    <tr>\n",
       "      <th>36</th>\n",
       "      <td>66</td>\n",
       "      <td>31.238590</td>\n",
       "      <td>82</td>\n",
       "      <td>4.181</td>\n",
       "      <td>0.845677</td>\n",
       "      <td>16.2247</td>\n",
       "      <td>4.267105</td>\n",
       "      <td>3.29175</td>\n",
       "      <td>634.602</td>\n",
       "      <td>1</td>\n",
       "      <td>4.230108</td>\n",
       "      <td>0.862314</td>\n",
       "      <td>4.230108</td>\n",
       "      <td>Resistin_2</td>\n",
       "      <td>4.230108</td>\n",
       "    </tr>\n",
       "    <tr>\n",
       "      <th>37</th>\n",
       "      <td>69</td>\n",
       "      <td>35.092702</td>\n",
       "      <td>101</td>\n",
       "      <td>5.646</td>\n",
       "      <td>1.406607</td>\n",
       "      <td>83.4821</td>\n",
       "      <td>6.796985</td>\n",
       "      <td>82.10000</td>\n",
       "      <td>263.499</td>\n",
       "      <td>1</td>\n",
       "      <td>105.503711</td>\n",
       "      <td>21.507099</td>\n",
       "      <td>105.503711</td>\n",
       "      <td>Resistin_2</td>\n",
       "      <td>105.503711</td>\n",
       "    </tr>\n",
       "    <tr>\n",
       "      <th>38</th>\n",
       "      <td>60</td>\n",
       "      <td>26.349292</td>\n",
       "      <td>103</td>\n",
       "      <td>5.138</td>\n",
       "      <td>1.305395</td>\n",
       "      <td>24.2998</td>\n",
       "      <td>2.194280</td>\n",
       "      <td>20.25350</td>\n",
       "      <td>378.996</td>\n",
       "      <td>1</td>\n",
       "      <td>26.027033</td>\n",
       "      <td>5.305652</td>\n",
       "      <td>26.027033</td>\n",
       "      <td>Resistin_2</td>\n",
       "      <td>26.027033</td>\n",
       "    </tr>\n",
       "  </tbody>\n",
       "</table>\n",
       "</div>"
      ],
      "text/plain": [
       "    Age        BMI  Glucose  Insulin      HOMA   Leptin  Adiponectin  \\\n",
       "36   66  31.238590       82    4.181  0.845677  16.2247     4.267105   \n",
       "37   69  35.092702      101    5.646  1.406607  83.4821     6.796985   \n",
       "38   60  26.349292      103    5.138  1.305395  24.2998     2.194280   \n",
       "\n",
       "    Resistin    MCP.1  Classification  Resistin_2  Resistin_3         max  \\\n",
       "36   3.29175  634.602               1    4.230108    0.862314    4.230108   \n",
       "37  82.10000  263.499               1  105.503711   21.507099  105.503711   \n",
       "38  20.25350  378.996               1   26.027033    5.305652   26.027033   \n",
       "\n",
       "    max_column       max_2  \n",
       "36  Resistin_2    4.230108  \n",
       "37  Resistin_2  105.503711  \n",
       "38  Resistin_2   26.027033  "
      ]
     },
     "execution_count": 58,
     "metadata": {},
     "output_type": "execute_result"
    }
   ],
   "source": [
    "df.iloc[36:39]"
   ]
  },
  {
   "cell_type": "markdown",
   "id": "4a7de67b",
   "metadata": {},
   "source": [
    "### Max in each row from many columns (axis=1)"
   ]
  },
  {
   "cell_type": "code",
   "execution_count": 42,
   "id": "33d64796",
   "metadata": {},
   "outputs": [
    {
     "data": {
      "text/html": [
       "<div>\n",
       "<style scoped>\n",
       "    .dataframe tbody tr th:only-of-type {\n",
       "        vertical-align: middle;\n",
       "    }\n",
       "\n",
       "    .dataframe tbody tr th {\n",
       "        vertical-align: top;\n",
       "    }\n",
       "\n",
       "    .dataframe thead th {\n",
       "        text-align: right;\n",
       "    }\n",
       "</style>\n",
       "<table border=\"1\" class=\"dataframe\">\n",
       "  <thead>\n",
       "    <tr style=\"text-align: right;\">\n",
       "      <th></th>\n",
       "      <th>Age</th>\n",
       "      <th>BMI</th>\n",
       "      <th>Glucose</th>\n",
       "      <th>Insulin</th>\n",
       "      <th>HOMA</th>\n",
       "      <th>Leptin</th>\n",
       "      <th>Adiponectin</th>\n",
       "      <th>Resistin</th>\n",
       "      <th>MCP.1</th>\n",
       "      <th>Classification</th>\n",
       "      <th>Resistin_2</th>\n",
       "      <th>Resistin_3</th>\n",
       "      <th>max</th>\n",
       "      <th>max_column</th>\n",
       "    </tr>\n",
       "  </thead>\n",
       "  <tbody>\n",
       "    <tr>\n",
       "      <th>0</th>\n",
       "      <td>48</td>\n",
       "      <td>23.5</td>\n",
       "      <td>70</td>\n",
       "      <td>2.707</td>\n",
       "      <td>0.467409</td>\n",
       "      <td>8.8071</td>\n",
       "      <td>9.7024</td>\n",
       "      <td>7.99585</td>\n",
       "      <td>417.114</td>\n",
       "      <td>1</td>\n",
       "      <td>10.275175</td>\n",
       "      <td>2.094611</td>\n",
       "      <td>10.275175</td>\n",
       "      <td>Resistin</td>\n",
       "    </tr>\n",
       "  </tbody>\n",
       "</table>\n",
       "</div>"
      ],
      "text/plain": [
       "   Age   BMI  Glucose  Insulin      HOMA  Leptin  Adiponectin  Resistin  \\\n",
       "0   48  23.5       70    2.707  0.467409  8.8071       9.7024   7.99585   \n",
       "\n",
       "     MCP.1  Classification  Resistin_2  Resistin_3        max max_column  \n",
       "0  417.114               1   10.275175    2.094611  10.275175   Resistin  "
      ]
     },
     "execution_count": 42,
     "metadata": {},
     "output_type": "execute_result"
    }
   ],
   "source": [
    "df['max'] = df[ ['Resistin','Resistin_2','Resistin_3'] ].max(axis=1)\n",
    "df.head(1)"
   ]
  },
  {
   "cell_type": "markdown",
   "id": "569e0fb6",
   "metadata": {},
   "source": [
    "### Which column has the max value in each row"
   ]
  },
  {
   "cell_type": "code",
   "execution_count": 43,
   "id": "f36fbee5",
   "metadata": {},
   "outputs": [
    {
     "data": {
      "text/html": [
       "<div>\n",
       "<style scoped>\n",
       "    .dataframe tbody tr th:only-of-type {\n",
       "        vertical-align: middle;\n",
       "    }\n",
       "\n",
       "    .dataframe tbody tr th {\n",
       "        vertical-align: top;\n",
       "    }\n",
       "\n",
       "    .dataframe thead th {\n",
       "        text-align: right;\n",
       "    }\n",
       "</style>\n",
       "<table border=\"1\" class=\"dataframe\">\n",
       "  <thead>\n",
       "    <tr style=\"text-align: right;\">\n",
       "      <th></th>\n",
       "      <th>Age</th>\n",
       "      <th>BMI</th>\n",
       "      <th>Glucose</th>\n",
       "      <th>Insulin</th>\n",
       "      <th>HOMA</th>\n",
       "      <th>Leptin</th>\n",
       "      <th>Adiponectin</th>\n",
       "      <th>Resistin</th>\n",
       "      <th>MCP.1</th>\n",
       "      <th>Classification</th>\n",
       "      <th>Resistin_2</th>\n",
       "      <th>Resistin_3</th>\n",
       "      <th>max</th>\n",
       "      <th>max_column</th>\n",
       "    </tr>\n",
       "  </thead>\n",
       "  <tbody>\n",
       "    <tr>\n",
       "      <th>0</th>\n",
       "      <td>48</td>\n",
       "      <td>23.500000</td>\n",
       "      <td>70</td>\n",
       "      <td>2.707</td>\n",
       "      <td>0.467409</td>\n",
       "      <td>8.8071</td>\n",
       "      <td>9.702400</td>\n",
       "      <td>7.99585</td>\n",
       "      <td>417.114</td>\n",
       "      <td>1</td>\n",
       "      <td>10.275175</td>\n",
       "      <td>2.094611</td>\n",
       "      <td>10.275175</td>\n",
       "      <td>Resistin_2</td>\n",
       "    </tr>\n",
       "    <tr>\n",
       "      <th>1</th>\n",
       "      <td>83</td>\n",
       "      <td>20.690495</td>\n",
       "      <td>92</td>\n",
       "      <td>3.115</td>\n",
       "      <td>0.706897</td>\n",
       "      <td>8.8438</td>\n",
       "      <td>5.429285</td>\n",
       "      <td>4.06405</td>\n",
       "      <td>468.786</td>\n",
       "      <td>1</td>\n",
       "      <td>5.222562</td>\n",
       "      <td>1.064628</td>\n",
       "      <td>5.222562</td>\n",
       "      <td>Resistin_2</td>\n",
       "    </tr>\n",
       "    <tr>\n",
       "      <th>2</th>\n",
       "      <td>82</td>\n",
       "      <td>23.124670</td>\n",
       "      <td>91</td>\n",
       "      <td>4.498</td>\n",
       "      <td>1.009651</td>\n",
       "      <td>17.9393</td>\n",
       "      <td>22.432040</td>\n",
       "      <td>9.27715</td>\n",
       "      <td>554.697</td>\n",
       "      <td>1</td>\n",
       "      <td>11.921727</td>\n",
       "      <td>2.430263</td>\n",
       "      <td>11.921727</td>\n",
       "      <td>Resistin_2</td>\n",
       "    </tr>\n",
       "  </tbody>\n",
       "</table>\n",
       "</div>"
      ],
      "text/plain": [
       "   Age        BMI  Glucose  Insulin      HOMA   Leptin  Adiponectin  Resistin  \\\n",
       "0   48  23.500000       70    2.707  0.467409   8.8071     9.702400   7.99585   \n",
       "1   83  20.690495       92    3.115  0.706897   8.8438     5.429285   4.06405   \n",
       "2   82  23.124670       91    4.498  1.009651  17.9393    22.432040   9.27715   \n",
       "\n",
       "     MCP.1  Classification  Resistin_2  Resistin_3        max  max_column  \n",
       "0  417.114               1   10.275175    2.094611  10.275175  Resistin_2  \n",
       "1  468.786               1    5.222562    1.064628   5.222562  Resistin_2  \n",
       "2  554.697               1   11.921727    2.430263  11.921727  Resistin_2  "
      ]
     },
     "execution_count": 43,
     "metadata": {},
     "output_type": "execute_result"
    }
   ],
   "source": [
    "df['max_column']= df[ ['Resistin','Resistin_2','Resistin_3'] ].idxmax(axis=1)\n",
    "df.head(3)"
   ]
  },
  {
   "cell_type": "markdown",
   "id": "0ac1a771",
   "metadata": {},
   "source": [
    "### Using numpy to find max of each row  (use idxmax)"
   ]
  },
  {
   "cell_type": "code",
   "execution_count": 44,
   "id": "8857ca15",
   "metadata": {},
   "outputs": [
    {
     "data": {
      "text/html": [
       "<div>\n",
       "<style scoped>\n",
       "    .dataframe tbody tr th:only-of-type {\n",
       "        vertical-align: middle;\n",
       "    }\n",
       "\n",
       "    .dataframe tbody tr th {\n",
       "        vertical-align: top;\n",
       "    }\n",
       "\n",
       "    .dataframe thead th {\n",
       "        text-align: right;\n",
       "    }\n",
       "</style>\n",
       "<table border=\"1\" class=\"dataframe\">\n",
       "  <thead>\n",
       "    <tr style=\"text-align: right;\">\n",
       "      <th></th>\n",
       "      <th>Age</th>\n",
       "      <th>BMI</th>\n",
       "      <th>Glucose</th>\n",
       "      <th>Insulin</th>\n",
       "      <th>HOMA</th>\n",
       "      <th>Leptin</th>\n",
       "      <th>Adiponectin</th>\n",
       "      <th>Resistin</th>\n",
       "      <th>MCP.1</th>\n",
       "      <th>Classification</th>\n",
       "      <th>Resistin_2</th>\n",
       "      <th>Resistin_3</th>\n",
       "      <th>max</th>\n",
       "      <th>max_column</th>\n",
       "      <th>max_2</th>\n",
       "    </tr>\n",
       "  </thead>\n",
       "  <tbody>\n",
       "    <tr>\n",
       "      <th>0</th>\n",
       "      <td>48</td>\n",
       "      <td>23.5</td>\n",
       "      <td>70</td>\n",
       "      <td>2.707</td>\n",
       "      <td>0.467409</td>\n",
       "      <td>8.8071</td>\n",
       "      <td>9.7024</td>\n",
       "      <td>7.99585</td>\n",
       "      <td>417.114</td>\n",
       "      <td>1</td>\n",
       "      <td>10.275175</td>\n",
       "      <td>2.094611</td>\n",
       "      <td>10.275175</td>\n",
       "      <td>Resistin_2</td>\n",
       "      <td>10.275175</td>\n",
       "    </tr>\n",
       "  </tbody>\n",
       "</table>\n",
       "</div>"
      ],
      "text/plain": [
       "   Age   BMI  Glucose  Insulin      HOMA  Leptin  Adiponectin  Resistin  \\\n",
       "0   48  23.5       70    2.707  0.467409  8.8071       9.7024   7.99585   \n",
       "\n",
       "     MCP.1  Classification  Resistin_2  Resistin_3        max  max_column  \\\n",
       "0  417.114               1   10.275175    2.094611  10.275175  Resistin_2   \n",
       "\n",
       "       max_2  \n",
       "0  10.275175  "
      ]
     },
     "execution_count": 44,
     "metadata": {},
     "output_type": "execute_result"
    }
   ],
   "source": [
    "df['max_2'] = np.max(df[ ['Resistin','Resistin_2','Resistin_3'] ], axis=1)\n",
    "df.head(1)"
   ]
  },
  {
   "cell_type": "markdown",
   "id": "de37e16f",
   "metadata": {},
   "source": [
    "### Convert to Numpy to run faster\n",
    "\n",
    "### df[ [columns] ].values and df[ [columns] ].to_numpy()   -> both are same "
   ]
  },
  {
   "cell_type": "code",
   "execution_count": 49,
   "id": "ac89c59a",
   "metadata": {},
   "outputs": [
    {
     "data": {
      "text/plain": [
       "array([ 82.1       , 105.503711  ,  21.50709869])"
      ]
     },
     "execution_count": 49,
     "metadata": {},
     "output_type": "execute_result"
    }
   ],
   "source": [
    "df[ ['Resistin','Resistin_2','Resistin_3'] ].values.max(axis=0)"
   ]
  },
  {
   "cell_type": "code",
   "execution_count": 51,
   "id": "0d41357e",
   "metadata": {},
   "outputs": [
    {
     "data": {
      "text/plain": [
       "array([ 82.1       , 105.503711  ,  21.50709869])"
      ]
     },
     "execution_count": 51,
     "metadata": {},
     "output_type": "execute_result"
    }
   ],
   "source": [
    "df[ ['Resistin','Resistin_2','Resistin_3'] ].to_numpy().max(axis=0)"
   ]
  },
  {
   "cell_type": "code",
   "execution_count": null,
   "id": "c5cfd646",
   "metadata": {},
   "outputs": [],
   "source": []
  }
 ],
 "metadata": {
  "kernelspec": {
   "display_name": "Python 3 (ipykernel)",
   "language": "python",
   "name": "python3"
  },
  "language_info": {
   "codemirror_mode": {
    "name": "ipython",
    "version": 3
   },
   "file_extension": ".py",
   "mimetype": "text/x-python",
   "name": "python",
   "nbconvert_exporter": "python",
   "pygments_lexer": "ipython3",
   "version": "3.11.5"
  }
 },
 "nbformat": 4,
 "nbformat_minor": 5
}
