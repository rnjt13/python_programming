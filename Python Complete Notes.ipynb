{
 "cells": [
  {
   "cell_type": "code",
   "execution_count": 1,
   "id": "4200af64",
   "metadata": {},
   "outputs": [],
   "source": [
    "import pandas as pd\n",
    "import numpy as np"
   ]
  },
  {
   "cell_type": "markdown",
   "id": "c610076d",
   "metadata": {},
   "source": [
    "## Print types"
   ]
  },
  {
   "cell_type": "markdown",
   "id": "c8348dbe",
   "metadata": {},
   "source": [
    "### Types of print using sep and end inside print statement"
   ]
  },
  {
   "cell_type": "code",
   "execution_count": 11,
   "id": "cc0c4db7",
   "metadata": {},
   "outputs": [
    {
     "name": "stdout",
     "output_type": "stream",
     "text": [
      "India Australia England Germany\n"
     ]
    }
   ],
   "source": [
    "print('India','Australia','England','Germany',sep=' ', end='\\n')"
   ]
  },
  {
   "cell_type": "code",
   "execution_count": 12,
   "id": "97e9fcb9",
   "metadata": {},
   "outputs": [
    {
     "name": "stdout",
     "output_type": "stream",
     "text": [
      "India-Australia-England-Germany\tNetherlands\n"
     ]
    }
   ],
   "source": [
    "print('India','Australia','England','Germany',sep='-', end='\\t')\n",
    "print('Netherlands',sep=' ', end='\\n')"
   ]
  },
  {
   "cell_type": "markdown",
   "id": "1b7c3ccb",
   "metadata": {},
   "source": [
    "### Python supports 3 categories of data types:\n",
    " * Basic Types - (integer,float,complex,boolean and string)\n",
    " * Container Types - (List,Tuples, Sets and Dictionary)\n",
    " * User-defined Types - Class"
   ]
  },
  {
   "cell_type": "code",
   "execution_count": 60,
   "id": "5a91f15a",
   "metadata": {},
   "outputs": [],
   "source": [
    "# Int limit 1e308, Float limit 1.7e308"
   ]
  },
  {
   "cell_type": "code",
   "execution_count": 62,
   "id": "fd1d9b97",
   "metadata": {},
   "outputs": [
    {
     "name": "stdout",
     "output_type": "stream",
     "text": [
      "4 4.5 True (4+5j)\n"
     ]
    }
   ],
   "source": [
    "# Int,FLoat,Boolean,Complex\n",
    "print (4,4.5,True,4+5j)"
   ]
  },
  {
   "cell_type": "code",
   "execution_count": 63,
   "id": "32f8a4ec",
   "metadata": {},
   "outputs": [
    {
     "name": "stdout",
     "output_type": "stream",
     "text": [
      "Cricket Cricket Cricket\n"
     ]
    }
   ],
   "source": [
    "# String Can be inside '', \" \", \"\"\" \"\"\"\n",
    "print('Cricket',\"Cricket\", \"\"\"Cricket\"\"\")"
   ]
  },
  {
   "cell_type": "markdown",
   "id": "a105c905",
   "metadata": {},
   "source": [
    "### List, Tuple, Set, Dictioanry"
   ]
  },
  {
   "cell_type": "code",
   "execution_count": 67,
   "id": "7067ac56",
   "metadata": {},
   "outputs": [
    {
     "name": "stdout",
     "output_type": "stream",
     "text": [
      "List=[1, 2, 3, 4], Tuple=(1, 2, 3, 4), Set={1, 2, 3, 4}, Dictioanry={'Name': 'Ranjeet', 'Type': 'Data Scientist'}\n"
     ]
    }
   ],
   "source": [
    "print('List={}, Tuple={}, Set={}, Dictioanry={}'.format(\n",
    "    [1,2,3,4],(1,2,3,4,),{1,2,3,4},{'Name':\"Ranjeet\",'Type':\"Data Scientist\"}))"
   ]
  },
  {
   "cell_type": "markdown",
   "id": "d5b459f7",
   "metadata": {},
   "source": [
    "### Variables - containers for future use"
   ]
  },
  {
   "cell_type": "code",
   "execution_count": 71,
   "id": "65c7806c",
   "metadata": {},
   "outputs": [
    {
     "name": "stdout",
     "output_type": "stream",
     "text": [
      "Ranjeet <class 'str'>\n"
     ]
    }
   ],
   "source": [
    "# Dynamic Typing, no need to declare the variable, also python automatically decides variable type\n",
    "name = \"Ranjeet\" \n",
    "print(name,type(name))"
   ]
  },
  {
   "cell_type": "code",
   "execution_count": 72,
   "id": "71fc5329",
   "metadata": {},
   "outputs": [
    {
     "name": "stdout",
     "output_type": "stream",
     "text": [
      "4 <class 'int'>\n"
     ]
    }
   ],
   "source": [
    "# Dynamic Binding, same variable can change data type\n",
    "name = 4 \n",
    "print(name,type(name))"
   ]
  },
  {
   "cell_type": "markdown",
   "id": "c29ccb16",
   "metadata": {},
   "source": [
    "### Declare variables in 1 line"
   ]
  },
  {
   "cell_type": "code",
   "execution_count": 73,
   "id": "a9da232c",
   "metadata": {},
   "outputs": [
    {
     "name": "stdout",
     "output_type": "stream",
     "text": [
      "1 2 3\n"
     ]
    }
   ],
   "source": [
    "a=1;b=2;c=3\n",
    "print(a,b,c)"
   ]
  },
  {
   "cell_type": "code",
   "execution_count": 74,
   "id": "c44c4ef2",
   "metadata": {},
   "outputs": [
    {
     "name": "stdout",
     "output_type": "stream",
     "text": [
      "1 2 3\n"
     ]
    }
   ],
   "source": [
    "a,b,c=1,2,3\n",
    "print(a,b,c)"
   ]
  },
  {
   "cell_type": "code",
   "execution_count": 75,
   "id": "9c488e33",
   "metadata": {},
   "outputs": [
    {
     "name": "stdout",
     "output_type": "stream",
     "text": [
      "3 3 3\n"
     ]
    }
   ],
   "source": [
    "a=b=c=3\n",
    "print(a,b,c)"
   ]
  },
  {
   "cell_type": "markdown",
   "id": "ea4caa72",
   "metadata": {},
   "source": [
    "### Keywords and Identifiers"
   ]
  },
  {
   "cell_type": "code",
   "execution_count": 76,
   "id": "66755dbf",
   "metadata": {},
   "outputs": [
    {
     "name": "stdout",
     "output_type": "stream",
     "text": [
      "['False', 'None', 'True', 'and', 'as', 'assert', 'async', 'await', 'break', 'class', 'continue', 'def', 'del', 'elif', 'else', 'except', 'finally', 'for', 'from', 'global', 'if', 'import', 'in', 'is', 'lambda', 'nonlocal', 'not', 'or', 'pass', 'raise', 'return', 'try', 'while', 'with', 'yield']\n"
     ]
    }
   ],
   "source": [
    "#python has 33 keywords\n",
    "import keyword\n",
    "print(keyword.kwlist)"
   ]
  },
  {
   "cell_type": "markdown",
   "id": "6597b899",
   "metadata": {},
   "source": [
    "### Rules for identifiers\n",
    "* can only start with a letter or _\n",
    "* followed by any letter, digit, _\n",
    "* keywords cannot be used as identifiers"
   ]
  },
  {
   "cell_type": "code",
   "execution_count": 80,
   "id": "e688ee8c",
   "metadata": {},
   "outputs": [],
   "source": [
    "_name='Ranjeet'"
   ]
  },
  {
   "cell_type": "markdown",
   "id": "c170db35",
   "metadata": {},
   "source": [
    "### Taking input from user.  Note - Input is always in string. convert to other data type if required"
   ]
  },
  {
   "cell_type": "code",
   "execution_count": 84,
   "id": "2e368ea0",
   "metadata": {},
   "outputs": [
    {
     "name": "stdout",
     "output_type": "stream",
     "text": [
      "1st number78\n",
      "78 79\n"
     ]
    }
   ],
   "source": [
    "y= input(prompt='1st number')\n",
    "print (y,int(y)+1)"
   ]
  },
  {
   "cell_type": "markdown",
   "id": "8e38c28c",
   "metadata": {},
   "source": [
    "### type is used to find type of any object"
   ]
  },
  {
   "cell_type": "code",
   "execution_count": 88,
   "id": "18febb28",
   "metadata": {},
   "outputs": [
    {
     "data": {
      "text/plain": [
       "(list, tuple, set, dict, complex, str, float)"
      ]
     },
     "execution_count": 88,
     "metadata": {},
     "output_type": "execute_result"
    }
   ],
   "source": [
    "type([3,4]), type((4,5)), type({4,5}),type({'a':4}), type(3+5j), type('abc'), type(4.5)"
   ]
  },
  {
   "cell_type": "code",
   "execution_count": 89,
   "id": "b3ccee3e",
   "metadata": {},
   "outputs": [],
   "source": [
    "# Assigning Variables in Python"
   ]
  },
  {
   "cell_type": "code",
   "execution_count": 90,
   "id": "f35f84e1",
   "metadata": {},
   "outputs": [
    {
     "name": "stdout",
     "output_type": "stream",
     "text": [
      "4 4.5 3j BCD\n"
     ]
    }
   ],
   "source": [
    "a,b,c,d= 4,4.5,3j,'BCD'\n",
    "print(a,b,c,d)"
   ]
  },
  {
   "cell_type": "code",
   "execution_count": 93,
   "id": "2563becf",
   "metadata": {},
   "outputs": [
    {
     "name": "stdout",
     "output_type": "stream",
     "text": [
      "None\n"
     ]
    }
   ],
   "source": [
    "# None is used to assign a variable some value that can be used later\n",
    "q= None\n",
    "print(q)"
   ]
  },
  {
   "cell_type": "markdown",
   "id": "e4615ac2",
   "metadata": {},
   "source": [
    "### Operators in Python\n",
    "* Arithmetic\n",
    "* Comparison\n",
    "* Logical\n",
    "* Bitwise\n",
    "* Assignment\n",
    "* Identity\n",
    "* Membership"
   ]
  },
  {
   "cell_type": "code",
   "execution_count": 99,
   "id": "a24720e2",
   "metadata": {},
   "outputs": [
    {
     "name": "stdout",
     "output_type": "stream",
     "text": [
      "32 1 3.5 3\n"
     ]
    }
   ],
   "source": [
    "print(2**5, 7%2, 7/2, 7//2) # power, mod, division, interger division"
   ]
  },
  {
   "cell_type": "code",
   "execution_count": null,
   "id": "dec3cc4c",
   "metadata": {},
   "outputs": [],
   "source": []
  },
  {
   "cell_type": "code",
   "execution_count": 102,
   "id": "fcc1100b",
   "metadata": {},
   "outputs": [
    {
     "name": "stdout",
     "output_type": "stream",
     "text": [
      "False True False\n"
     ]
    }
   ],
   "source": [
    "print(3>78, 3!=4, 2==4)"
   ]
  },
  {
   "cell_type": "code",
   "execution_count": 107,
   "id": "bd811d76",
   "metadata": {},
   "outputs": [
    {
     "name": "stdout",
     "output_type": "stream",
     "text": [
      "32 False\n"
     ]
    }
   ],
   "source": [
    "print(3 and 4 and 1 and 32, True and False) # logical and operation"
   ]
  },
  {
   "cell_type": "code",
   "execution_count": 108,
   "id": "b8e3a1d7",
   "metadata": {},
   "outputs": [
    {
     "name": "stdout",
     "output_type": "stream",
     "text": [
      "2\n"
     ]
    }
   ],
   "source": [
    "print( 2 & 3) # bitwise and operation"
   ]
  },
  {
   "cell_type": "code",
   "execution_count": 109,
   "id": "eb48b83d",
   "metadata": {},
   "outputs": [
    {
     "data": {
      "text/plain": [
       "6"
      ]
     },
     "execution_count": 109,
     "metadata": {},
     "output_type": "execute_result"
    }
   ],
   "source": [
    "#Assignment\n",
    "a=3\n",
    "a+=3\n",
    "a"
   ]
  },
  {
   "cell_type": "code",
   "execution_count": 111,
   "id": "ca513d82",
   "metadata": {},
   "outputs": [],
   "source": [
    "# a++, ++a # these are not allowed"
   ]
  },
  {
   "cell_type": "code",
   "execution_count": 112,
   "id": "06465119",
   "metadata": {},
   "outputs": [
    {
     "name": "stdout",
     "output_type": "stream",
     "text": [
      "True\n",
      "False\n"
     ]
    }
   ],
   "source": [
    "# Identity means if 2 variables are at same memory location\n",
    "a= 3;b=3; print(a is b)\n",
    "c=[1,2,3];d=[1,2,3]; print(c is d)"
   ]
  },
  {
   "cell_type": "code",
   "execution_count": 114,
   "id": "7ad0e67f",
   "metadata": {},
   "outputs": [
    {
     "name": "stdout",
     "output_type": "stream",
     "text": [
      "True False\n"
     ]
    }
   ],
   "source": [
    "# Membership tells if one thing is inside another thing\n",
    "a= \"Delhi\"\n",
    "print(\"D\" in a, \"i\" not in a)"
   ]
  },
  {
   "cell_type": "code",
   "execution_count": 115,
   "id": "344cbc20",
   "metadata": {},
   "outputs": [
    {
     "name": "stdout",
     "output_type": "stream",
     "text": [
      "True\n"
     ]
    }
   ],
   "source": [
    "v=(1,2,3); print(3 in v)"
   ]
  },
  {
   "cell_type": "code",
   "execution_count": null,
   "id": "07ffe945",
   "metadata": {},
   "outputs": [],
   "source": []
  },
  {
   "cell_type": "code",
   "execution_count": null,
   "id": "fc182285",
   "metadata": {},
   "outputs": [],
   "source": []
  },
  {
   "cell_type": "code",
   "execution_count": null,
   "id": "3a900a6d",
   "metadata": {},
   "outputs": [],
   "source": []
  },
  {
   "cell_type": "code",
   "execution_count": null,
   "id": "e8319431",
   "metadata": {},
   "outputs": [],
   "source": []
  },
  {
   "cell_type": "code",
   "execution_count": null,
   "id": "8427068b",
   "metadata": {},
   "outputs": [],
   "source": []
  },
  {
   "cell_type": "code",
   "execution_count": 15,
   "id": "a7972451",
   "metadata": {},
   "outputs": [],
   "source": [
    "df = pd.read_csv('/Users/rnjt/Downloads/Coimbra_breast_cancer_dataset.csv')"
   ]
  },
  {
   "cell_type": "code",
   "execution_count": 16,
   "id": "50bc14bc",
   "metadata": {},
   "outputs": [
    {
     "name": "stdout",
     "output_type": "stream",
     "text": [
      "(116, 10)\n"
     ]
    },
    {
     "data": {
      "text/html": [
       "<div>\n",
       "<style scoped>\n",
       "    .dataframe tbody tr th:only-of-type {\n",
       "        vertical-align: middle;\n",
       "    }\n",
       "\n",
       "    .dataframe tbody tr th {\n",
       "        vertical-align: top;\n",
       "    }\n",
       "\n",
       "    .dataframe thead th {\n",
       "        text-align: right;\n",
       "    }\n",
       "</style>\n",
       "<table border=\"1\" class=\"dataframe\">\n",
       "  <thead>\n",
       "    <tr style=\"text-align: right;\">\n",
       "      <th></th>\n",
       "      <th>Age</th>\n",
       "      <th>BMI</th>\n",
       "      <th>Glucose</th>\n",
       "      <th>Insulin</th>\n",
       "      <th>HOMA</th>\n",
       "      <th>Leptin</th>\n",
       "      <th>Adiponectin</th>\n",
       "      <th>Resistin</th>\n",
       "      <th>MCP.1</th>\n",
       "      <th>Classification</th>\n",
       "    </tr>\n",
       "  </thead>\n",
       "  <tbody>\n",
       "    <tr>\n",
       "      <th>0</th>\n",
       "      <td>48</td>\n",
       "      <td>23.500000</td>\n",
       "      <td>70</td>\n",
       "      <td>2.707</td>\n",
       "      <td>0.467409</td>\n",
       "      <td>8.8071</td>\n",
       "      <td>9.702400</td>\n",
       "      <td>7.99585</td>\n",
       "      <td>417.114</td>\n",
       "      <td>1</td>\n",
       "    </tr>\n",
       "    <tr>\n",
       "      <th>1</th>\n",
       "      <td>83</td>\n",
       "      <td>20.690495</td>\n",
       "      <td>92</td>\n",
       "      <td>3.115</td>\n",
       "      <td>0.706897</td>\n",
       "      <td>8.8438</td>\n",
       "      <td>5.429285</td>\n",
       "      <td>4.06405</td>\n",
       "      <td>468.786</td>\n",
       "      <td>1</td>\n",
       "    </tr>\n",
       "  </tbody>\n",
       "</table>\n",
       "</div>"
      ],
      "text/plain": [
       "   Age        BMI  Glucose  Insulin      HOMA  Leptin  Adiponectin  Resistin  \\\n",
       "0   48  23.500000       70    2.707  0.467409  8.8071     9.702400   7.99585   \n",
       "1   83  20.690495       92    3.115  0.706897  8.8438     5.429285   4.06405   \n",
       "\n",
       "     MCP.1  Classification  \n",
       "0  417.114               1  \n",
       "1  468.786               1  "
      ]
     },
     "execution_count": 16,
     "metadata": {},
     "output_type": "execute_result"
    }
   ],
   "source": [
    "print(df.shape)\n",
    "df.head(2)"
   ]
  },
  {
   "cell_type": "code",
   "execution_count": 19,
   "id": "bb867af9",
   "metadata": {},
   "outputs": [],
   "source": [
    "import math, random # random generates random floating number b/w (0 and 1)"
   ]
  },
  {
   "cell_type": "code",
   "execution_count": 40,
   "id": "703b041f",
   "metadata": {},
   "outputs": [
    {
     "data": {
      "text/html": [
       "<div>\n",
       "<style scoped>\n",
       "    .dataframe tbody tr th:only-of-type {\n",
       "        vertical-align: middle;\n",
       "    }\n",
       "\n",
       "    .dataframe tbody tr th {\n",
       "        vertical-align: top;\n",
       "    }\n",
       "\n",
       "    .dataframe thead th {\n",
       "        text-align: right;\n",
       "    }\n",
       "</style>\n",
       "<table border=\"1\" class=\"dataframe\">\n",
       "  <thead>\n",
       "    <tr style=\"text-align: right;\">\n",
       "      <th></th>\n",
       "      <th>Age</th>\n",
       "      <th>BMI</th>\n",
       "      <th>Glucose</th>\n",
       "      <th>Insulin</th>\n",
       "      <th>HOMA</th>\n",
       "      <th>Leptin</th>\n",
       "      <th>Adiponectin</th>\n",
       "      <th>Resistin</th>\n",
       "      <th>MCP.1</th>\n",
       "      <th>Classification</th>\n",
       "      <th>Resistin_2</th>\n",
       "      <th>Resistin_3</th>\n",
       "      <th>max</th>\n",
       "      <th>max_column</th>\n",
       "    </tr>\n",
       "  </thead>\n",
       "  <tbody>\n",
       "    <tr>\n",
       "      <th>0</th>\n",
       "      <td>48</td>\n",
       "      <td>23.500000</td>\n",
       "      <td>70</td>\n",
       "      <td>2.707</td>\n",
       "      <td>0.467409</td>\n",
       "      <td>8.8071</td>\n",
       "      <td>9.702400</td>\n",
       "      <td>7.99585</td>\n",
       "      <td>417.114</td>\n",
       "      <td>1</td>\n",
       "      <td>10.275175</td>\n",
       "      <td>2.094611</td>\n",
       "      <td>7.99585</td>\n",
       "      <td>Resistin</td>\n",
       "    </tr>\n",
       "    <tr>\n",
       "      <th>1</th>\n",
       "      <td>83</td>\n",
       "      <td>20.690495</td>\n",
       "      <td>92</td>\n",
       "      <td>3.115</td>\n",
       "      <td>0.706897</td>\n",
       "      <td>8.8438</td>\n",
       "      <td>5.429285</td>\n",
       "      <td>4.06405</td>\n",
       "      <td>468.786</td>\n",
       "      <td>1</td>\n",
       "      <td>5.222562</td>\n",
       "      <td>1.064628</td>\n",
       "      <td>4.06405</td>\n",
       "      <td>Resistin</td>\n",
       "    </tr>\n",
       "  </tbody>\n",
       "</table>\n",
       "</div>"
      ],
      "text/plain": [
       "   Age        BMI  Glucose  Insulin      HOMA  Leptin  Adiponectin  Resistin  \\\n",
       "0   48  23.500000       70    2.707  0.467409  8.8071     9.702400   7.99585   \n",
       "1   83  20.690495       92    3.115  0.706897  8.8438     5.429285   4.06405   \n",
       "\n",
       "     MCP.1  Classification  Resistin_2  Resistin_3      max max_column  \n",
       "0  417.114               1   10.275175    2.094611  7.99585   Resistin  \n",
       "1  468.786               1    5.222562    1.064628  4.06405   Resistin  "
      ]
     },
     "execution_count": 40,
     "metadata": {},
     "output_type": "execute_result"
    }
   ],
   "source": [
    "df['Resistin_2'],df['Resistin_3'] = df['Resistin']*(1+random.random()), df['Resistin']*random.random()\n",
    "df.head(2)"
   ]
  },
  {
   "cell_type": "markdown",
   "id": "6cfbacc2",
   "metadata": {},
   "source": [
    "## Max of dataframe column wise and row wise"
   ]
  },
  {
   "cell_type": "markdown",
   "id": "31967a9e",
   "metadata": {},
   "source": [
    "### Max in each column (axis=0)"
   ]
  },
  {
   "cell_type": "code",
   "execution_count": 41,
   "id": "45eb1f54",
   "metadata": {},
   "outputs": [
    {
     "data": {
      "text/plain": [
       "Resistin       82.100000\n",
       "Resistin_2    105.503711\n",
       "dtype: float64"
      ]
     },
     "execution_count": 41,
     "metadata": {},
     "output_type": "execute_result"
    }
   ],
   "source": [
    "df[['Resistin','Resistin_2']].max()\n",
    "# 'Resistin_2'"
   ]
  },
  {
   "cell_type": "markdown",
   "id": "7b0b2457",
   "metadata": {},
   "source": [
    "### Which row index has the max value in each column"
   ]
  },
  {
   "cell_type": "code",
   "execution_count": 59,
   "id": "c025cc2d",
   "metadata": {},
   "outputs": [
    {
     "data": {
      "text/plain": [
       "Resistin       37\n",
       "Resistin_2     37\n",
       "Leptin        115\n",
       "dtype: int64"
      ]
     },
     "execution_count": 59,
     "metadata": {},
     "output_type": "execute_result"
    }
   ],
   "source": [
    "df[['Resistin','Resistin_2','Leptin']].idxmax()\n",
    "# 'Resistin_2'"
   ]
  },
  {
   "cell_type": "code",
   "execution_count": 58,
   "id": "4ef3f4d9",
   "metadata": {},
   "outputs": [
    {
     "data": {
      "text/html": [
       "<div>\n",
       "<style scoped>\n",
       "    .dataframe tbody tr th:only-of-type {\n",
       "        vertical-align: middle;\n",
       "    }\n",
       "\n",
       "    .dataframe tbody tr th {\n",
       "        vertical-align: top;\n",
       "    }\n",
       "\n",
       "    .dataframe thead th {\n",
       "        text-align: right;\n",
       "    }\n",
       "</style>\n",
       "<table border=\"1\" class=\"dataframe\">\n",
       "  <thead>\n",
       "    <tr style=\"text-align: right;\">\n",
       "      <th></th>\n",
       "      <th>Age</th>\n",
       "      <th>BMI</th>\n",
       "      <th>Glucose</th>\n",
       "      <th>Insulin</th>\n",
       "      <th>HOMA</th>\n",
       "      <th>Leptin</th>\n",
       "      <th>Adiponectin</th>\n",
       "      <th>Resistin</th>\n",
       "      <th>MCP.1</th>\n",
       "      <th>Classification</th>\n",
       "      <th>Resistin_2</th>\n",
       "      <th>Resistin_3</th>\n",
       "      <th>max</th>\n",
       "      <th>max_column</th>\n",
       "      <th>max_2</th>\n",
       "    </tr>\n",
       "  </thead>\n",
       "  <tbody>\n",
       "    <tr>\n",
       "      <th>36</th>\n",
       "      <td>66</td>\n",
       "      <td>31.238590</td>\n",
       "      <td>82</td>\n",
       "      <td>4.181</td>\n",
       "      <td>0.845677</td>\n",
       "      <td>16.2247</td>\n",
       "      <td>4.267105</td>\n",
       "      <td>3.29175</td>\n",
       "      <td>634.602</td>\n",
       "      <td>1</td>\n",
       "      <td>4.230108</td>\n",
       "      <td>0.862314</td>\n",
       "      <td>4.230108</td>\n",
       "      <td>Resistin_2</td>\n",
       "      <td>4.230108</td>\n",
       "    </tr>\n",
       "    <tr>\n",
       "      <th>37</th>\n",
       "      <td>69</td>\n",
       "      <td>35.092702</td>\n",
       "      <td>101</td>\n",
       "      <td>5.646</td>\n",
       "      <td>1.406607</td>\n",
       "      <td>83.4821</td>\n",
       "      <td>6.796985</td>\n",
       "      <td>82.10000</td>\n",
       "      <td>263.499</td>\n",
       "      <td>1</td>\n",
       "      <td>105.503711</td>\n",
       "      <td>21.507099</td>\n",
       "      <td>105.503711</td>\n",
       "      <td>Resistin_2</td>\n",
       "      <td>105.503711</td>\n",
       "    </tr>\n",
       "    <tr>\n",
       "      <th>38</th>\n",
       "      <td>60</td>\n",
       "      <td>26.349292</td>\n",
       "      <td>103</td>\n",
       "      <td>5.138</td>\n",
       "      <td>1.305395</td>\n",
       "      <td>24.2998</td>\n",
       "      <td>2.194280</td>\n",
       "      <td>20.25350</td>\n",
       "      <td>378.996</td>\n",
       "      <td>1</td>\n",
       "      <td>26.027033</td>\n",
       "      <td>5.305652</td>\n",
       "      <td>26.027033</td>\n",
       "      <td>Resistin_2</td>\n",
       "      <td>26.027033</td>\n",
       "    </tr>\n",
       "  </tbody>\n",
       "</table>\n",
       "</div>"
      ],
      "text/plain": [
       "    Age        BMI  Glucose  Insulin      HOMA   Leptin  Adiponectin  \\\n",
       "36   66  31.238590       82    4.181  0.845677  16.2247     4.267105   \n",
       "37   69  35.092702      101    5.646  1.406607  83.4821     6.796985   \n",
       "38   60  26.349292      103    5.138  1.305395  24.2998     2.194280   \n",
       "\n",
       "    Resistin    MCP.1  Classification  Resistin_2  Resistin_3         max  \\\n",
       "36   3.29175  634.602               1    4.230108    0.862314    4.230108   \n",
       "37  82.10000  263.499               1  105.503711   21.507099  105.503711   \n",
       "38  20.25350  378.996               1   26.027033    5.305652   26.027033   \n",
       "\n",
       "    max_column       max_2  \n",
       "36  Resistin_2    4.230108  \n",
       "37  Resistin_2  105.503711  \n",
       "38  Resistin_2   26.027033  "
      ]
     },
     "execution_count": 58,
     "metadata": {},
     "output_type": "execute_result"
    }
   ],
   "source": [
    "df.iloc[36:39]"
   ]
  },
  {
   "cell_type": "markdown",
   "id": "395f6412",
   "metadata": {},
   "source": [
    "### Max in each row from many columns (axis=1)"
   ]
  },
  {
   "cell_type": "code",
   "execution_count": 42,
   "id": "43e13def",
   "metadata": {},
   "outputs": [
    {
     "data": {
      "text/html": [
       "<div>\n",
       "<style scoped>\n",
       "    .dataframe tbody tr th:only-of-type {\n",
       "        vertical-align: middle;\n",
       "    }\n",
       "\n",
       "    .dataframe tbody tr th {\n",
       "        vertical-align: top;\n",
       "    }\n",
       "\n",
       "    .dataframe thead th {\n",
       "        text-align: right;\n",
       "    }\n",
       "</style>\n",
       "<table border=\"1\" class=\"dataframe\">\n",
       "  <thead>\n",
       "    <tr style=\"text-align: right;\">\n",
       "      <th></th>\n",
       "      <th>Age</th>\n",
       "      <th>BMI</th>\n",
       "      <th>Glucose</th>\n",
       "      <th>Insulin</th>\n",
       "      <th>HOMA</th>\n",
       "      <th>Leptin</th>\n",
       "      <th>Adiponectin</th>\n",
       "      <th>Resistin</th>\n",
       "      <th>MCP.1</th>\n",
       "      <th>Classification</th>\n",
       "      <th>Resistin_2</th>\n",
       "      <th>Resistin_3</th>\n",
       "      <th>max</th>\n",
       "      <th>max_column</th>\n",
       "    </tr>\n",
       "  </thead>\n",
       "  <tbody>\n",
       "    <tr>\n",
       "      <th>0</th>\n",
       "      <td>48</td>\n",
       "      <td>23.5</td>\n",
       "      <td>70</td>\n",
       "      <td>2.707</td>\n",
       "      <td>0.467409</td>\n",
       "      <td>8.8071</td>\n",
       "      <td>9.7024</td>\n",
       "      <td>7.99585</td>\n",
       "      <td>417.114</td>\n",
       "      <td>1</td>\n",
       "      <td>10.275175</td>\n",
       "      <td>2.094611</td>\n",
       "      <td>10.275175</td>\n",
       "      <td>Resistin</td>\n",
       "    </tr>\n",
       "  </tbody>\n",
       "</table>\n",
       "</div>"
      ],
      "text/plain": [
       "   Age   BMI  Glucose  Insulin      HOMA  Leptin  Adiponectin  Resistin  \\\n",
       "0   48  23.5       70    2.707  0.467409  8.8071       9.7024   7.99585   \n",
       "\n",
       "     MCP.1  Classification  Resistin_2  Resistin_3        max max_column  \n",
       "0  417.114               1   10.275175    2.094611  10.275175   Resistin  "
      ]
     },
     "execution_count": 42,
     "metadata": {},
     "output_type": "execute_result"
    }
   ],
   "source": [
    "df['max'] = df[ ['Resistin','Resistin_2','Resistin_3'] ].max(axis=1)\n",
    "df.head(1)"
   ]
  },
  {
   "cell_type": "markdown",
   "id": "8c08027b",
   "metadata": {},
   "source": [
    "### Which column has the max value in each row"
   ]
  },
  {
   "cell_type": "code",
   "execution_count": 43,
   "id": "eab0341c",
   "metadata": {},
   "outputs": [
    {
     "data": {
      "text/html": [
       "<div>\n",
       "<style scoped>\n",
       "    .dataframe tbody tr th:only-of-type {\n",
       "        vertical-align: middle;\n",
       "    }\n",
       "\n",
       "    .dataframe tbody tr th {\n",
       "        vertical-align: top;\n",
       "    }\n",
       "\n",
       "    .dataframe thead th {\n",
       "        text-align: right;\n",
       "    }\n",
       "</style>\n",
       "<table border=\"1\" class=\"dataframe\">\n",
       "  <thead>\n",
       "    <tr style=\"text-align: right;\">\n",
       "      <th></th>\n",
       "      <th>Age</th>\n",
       "      <th>BMI</th>\n",
       "      <th>Glucose</th>\n",
       "      <th>Insulin</th>\n",
       "      <th>HOMA</th>\n",
       "      <th>Leptin</th>\n",
       "      <th>Adiponectin</th>\n",
       "      <th>Resistin</th>\n",
       "      <th>MCP.1</th>\n",
       "      <th>Classification</th>\n",
       "      <th>Resistin_2</th>\n",
       "      <th>Resistin_3</th>\n",
       "      <th>max</th>\n",
       "      <th>max_column</th>\n",
       "    </tr>\n",
       "  </thead>\n",
       "  <tbody>\n",
       "    <tr>\n",
       "      <th>0</th>\n",
       "      <td>48</td>\n",
       "      <td>23.500000</td>\n",
       "      <td>70</td>\n",
       "      <td>2.707</td>\n",
       "      <td>0.467409</td>\n",
       "      <td>8.8071</td>\n",
       "      <td>9.702400</td>\n",
       "      <td>7.99585</td>\n",
       "      <td>417.114</td>\n",
       "      <td>1</td>\n",
       "      <td>10.275175</td>\n",
       "      <td>2.094611</td>\n",
       "      <td>10.275175</td>\n",
       "      <td>Resistin_2</td>\n",
       "    </tr>\n",
       "    <tr>\n",
       "      <th>1</th>\n",
       "      <td>83</td>\n",
       "      <td>20.690495</td>\n",
       "      <td>92</td>\n",
       "      <td>3.115</td>\n",
       "      <td>0.706897</td>\n",
       "      <td>8.8438</td>\n",
       "      <td>5.429285</td>\n",
       "      <td>4.06405</td>\n",
       "      <td>468.786</td>\n",
       "      <td>1</td>\n",
       "      <td>5.222562</td>\n",
       "      <td>1.064628</td>\n",
       "      <td>5.222562</td>\n",
       "      <td>Resistin_2</td>\n",
       "    </tr>\n",
       "    <tr>\n",
       "      <th>2</th>\n",
       "      <td>82</td>\n",
       "      <td>23.124670</td>\n",
       "      <td>91</td>\n",
       "      <td>4.498</td>\n",
       "      <td>1.009651</td>\n",
       "      <td>17.9393</td>\n",
       "      <td>22.432040</td>\n",
       "      <td>9.27715</td>\n",
       "      <td>554.697</td>\n",
       "      <td>1</td>\n",
       "      <td>11.921727</td>\n",
       "      <td>2.430263</td>\n",
       "      <td>11.921727</td>\n",
       "      <td>Resistin_2</td>\n",
       "    </tr>\n",
       "  </tbody>\n",
       "</table>\n",
       "</div>"
      ],
      "text/plain": [
       "   Age        BMI  Glucose  Insulin      HOMA   Leptin  Adiponectin  Resistin  \\\n",
       "0   48  23.500000       70    2.707  0.467409   8.8071     9.702400   7.99585   \n",
       "1   83  20.690495       92    3.115  0.706897   8.8438     5.429285   4.06405   \n",
       "2   82  23.124670       91    4.498  1.009651  17.9393    22.432040   9.27715   \n",
       "\n",
       "     MCP.1  Classification  Resistin_2  Resistin_3        max  max_column  \n",
       "0  417.114               1   10.275175    2.094611  10.275175  Resistin_2  \n",
       "1  468.786               1    5.222562    1.064628   5.222562  Resistin_2  \n",
       "2  554.697               1   11.921727    2.430263  11.921727  Resistin_2  "
      ]
     },
     "execution_count": 43,
     "metadata": {},
     "output_type": "execute_result"
    }
   ],
   "source": [
    "df['max_column']= df[ ['Resistin','Resistin_2','Resistin_3'] ].idxmax(axis=1)\n",
    "df.head(3)"
   ]
  },
  {
   "cell_type": "markdown",
   "id": "f5b9ec0c",
   "metadata": {},
   "source": [
    "### Using numpy to find max of each row  (use idxmax)"
   ]
  },
  {
   "cell_type": "code",
   "execution_count": 44,
   "id": "ef7b8fe6",
   "metadata": {},
   "outputs": [
    {
     "data": {
      "text/html": [
       "<div>\n",
       "<style scoped>\n",
       "    .dataframe tbody tr th:only-of-type {\n",
       "        vertical-align: middle;\n",
       "    }\n",
       "\n",
       "    .dataframe tbody tr th {\n",
       "        vertical-align: top;\n",
       "    }\n",
       "\n",
       "    .dataframe thead th {\n",
       "        text-align: right;\n",
       "    }\n",
       "</style>\n",
       "<table border=\"1\" class=\"dataframe\">\n",
       "  <thead>\n",
       "    <tr style=\"text-align: right;\">\n",
       "      <th></th>\n",
       "      <th>Age</th>\n",
       "      <th>BMI</th>\n",
       "      <th>Glucose</th>\n",
       "      <th>Insulin</th>\n",
       "      <th>HOMA</th>\n",
       "      <th>Leptin</th>\n",
       "      <th>Adiponectin</th>\n",
       "      <th>Resistin</th>\n",
       "      <th>MCP.1</th>\n",
       "      <th>Classification</th>\n",
       "      <th>Resistin_2</th>\n",
       "      <th>Resistin_3</th>\n",
       "      <th>max</th>\n",
       "      <th>max_column</th>\n",
       "      <th>max_2</th>\n",
       "    </tr>\n",
       "  </thead>\n",
       "  <tbody>\n",
       "    <tr>\n",
       "      <th>0</th>\n",
       "      <td>48</td>\n",
       "      <td>23.5</td>\n",
       "      <td>70</td>\n",
       "      <td>2.707</td>\n",
       "      <td>0.467409</td>\n",
       "      <td>8.8071</td>\n",
       "      <td>9.7024</td>\n",
       "      <td>7.99585</td>\n",
       "      <td>417.114</td>\n",
       "      <td>1</td>\n",
       "      <td>10.275175</td>\n",
       "      <td>2.094611</td>\n",
       "      <td>10.275175</td>\n",
       "      <td>Resistin_2</td>\n",
       "      <td>10.275175</td>\n",
       "    </tr>\n",
       "  </tbody>\n",
       "</table>\n",
       "</div>"
      ],
      "text/plain": [
       "   Age   BMI  Glucose  Insulin      HOMA  Leptin  Adiponectin  Resistin  \\\n",
       "0   48  23.5       70    2.707  0.467409  8.8071       9.7024   7.99585   \n",
       "\n",
       "     MCP.1  Classification  Resistin_2  Resistin_3        max  max_column  \\\n",
       "0  417.114               1   10.275175    2.094611  10.275175  Resistin_2   \n",
       "\n",
       "       max_2  \n",
       "0  10.275175  "
      ]
     },
     "execution_count": 44,
     "metadata": {},
     "output_type": "execute_result"
    }
   ],
   "source": [
    "df['max_2'] = np.max(df[ ['Resistin','Resistin_2','Resistin_3'] ], axis=1)\n",
    "df.head(1)"
   ]
  },
  {
   "cell_type": "markdown",
   "id": "332b767e",
   "metadata": {},
   "source": [
    "### Convert to Numpy to run faster\n",
    "\n",
    "### df[ [columns] ].values and df[ [columns] ].to_numpy()   -> both are same "
   ]
  },
  {
   "cell_type": "code",
   "execution_count": 49,
   "id": "80d8e1b1",
   "metadata": {},
   "outputs": [
    {
     "data": {
      "text/plain": [
       "array([ 82.1       , 105.503711  ,  21.50709869])"
      ]
     },
     "execution_count": 49,
     "metadata": {},
     "output_type": "execute_result"
    }
   ],
   "source": [
    "df[ ['Resistin','Resistin_2','Resistin_3'] ].values.max(axis=0)"
   ]
  },
  {
   "cell_type": "code",
   "execution_count": 51,
   "id": "3f7620d3",
   "metadata": {},
   "outputs": [
    {
     "data": {
      "text/plain": [
       "array([ 82.1       , 105.503711  ,  21.50709869])"
      ]
     },
     "execution_count": 51,
     "metadata": {},
     "output_type": "execute_result"
    }
   ],
   "source": [
    "df[ ['Resistin','Resistin_2','Resistin_3'] ].to_numpy().max(axis=0)"
   ]
  },
  {
   "cell_type": "code",
   "execution_count": null,
   "id": "f6ae4ee5",
   "metadata": {},
   "outputs": [],
   "source": []
  }
 ],
 "metadata": {
  "kernelspec": {
   "display_name": "Python 3 (ipykernel)",
   "language": "python",
   "name": "python3"
  },
  "language_info": {
   "codemirror_mode": {
    "name": "ipython",
    "version": 3
   },
   "file_extension": ".py",
   "mimetype": "text/x-python",
   "name": "python",
   "nbconvert_exporter": "python",
   "pygments_lexer": "ipython3",
   "version": "3.11.5"
  }
 },
 "nbformat": 4,
 "nbformat_minor": 5
}
